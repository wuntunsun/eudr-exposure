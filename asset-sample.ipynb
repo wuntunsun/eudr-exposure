{
 "cells": [
  {
   "cell_type": "code",
   "execution_count": null,
   "metadata": {},
   "outputs": [],
   "source": [
    "import pandas as pd\n",
    "import geopandas as gpd\n",
    "from pyproj import CRS\n",
    "from shapely.geometry import Polygon\n",
    "from shapely.geometry import Point\n",
    "import rasterio as rio\n",
    "from rasterio import features\n",
    "from rasterio.windows import Window\n",
    "import matplotlib.pyplot as plt\n",
    "import numpy as np\n",
    "import pprint as pp\n",
    "import itertools as it\n",
    "from tqdm import tqdm\n",
    "import time\n",
    "\n",
    "from leaf.deforestation import (\n",
    "    area,\n",
    "    to_timeseries,\n",
    "    closest_index,\n",
    ")\n"
   ]
  },
  {
   "cell_type": "code",
   "execution_count": null,
   "metadata": {},
   "outputs": [],
   "source": [
    "geo = gpd.read_file('data/Hansen_GFC-2022-v1.10_lossyear_20S_060W.gpkg')\n",
    "asset = pd.read_csv('data/combined_asset_data.csv')"
   ]
  },
  {
   "cell_type": "code",
   "execution_count": null,
   "metadata": {},
   "outputs": [],
   "source": [
    "brazil = asset[asset['country'] == 'Brazil']\n",
    "#blip = brazil[(brazil['longitude'] > -60) & (brazil['longitude'] < -58.8) & (brazil['latitude'] > -21) & (brazil['latitude'] < -20)]\n",
    "brazil.head()"
   ]
  },
  {
   "cell_type": "code",
   "execution_count": null,
   "metadata": {},
   "outputs": [],
   "source": [
    "\n",
    "from typing import Tuple, Optional\n",
    "\n",
    "def closest_(gdf: gpd.GeoDataFrame, lat: float, long: float, year: int, verbose: bool = False) -> Tuple[float, int]:\n",
    "\n",
    "    # TODO: geopandas.sindex.SpatialIndex.nearest\n",
    "    distances = gdf[gdf['lossyear']==year].distance(Point(lat, long))\n",
    "    index = distances.idxmin()\n",
    "    return (distances.iloc[index], index)\n",
    "\n",
    "proj_3857 = geo.to_crs(epsg=3347) # lambert projection\n",
    "#foo = closest_(proj_3857, -22, -55, 2020, False)\n",
    "#print(foo)\n",
    "#geo.iloc[foo[1]]\n",
    "temp = brazil.apply(lambda x: closest_(proj_3857, x.latitude, x.longitude, 2020, False), axis=1)\n",
    "geo.iloc[temp[1]]"
   ]
  },
  {
   "cell_type": "code",
   "execution_count": null,
   "metadata": {},
   "outputs": [],
   "source": [
    "geometry=[Point(xy) for xy in zip(brazil[\"longitude\"], brazil[\"latitude\"])]\n",
    "geodata=gpd.GeoDataFrame(brazil,crs=geo.crs, geometry=geometry)\n",
    "base = geo[geo.lossyear==2020].plot(column='group', legend=True)\n",
    "geodata[geodata.start_year==2020].plot(ax=base, marker='o', color='red', markersize=5);\n"
   ]
  },
  {
   "cell_type": "code",
   "execution_count": null,
   "metadata": {},
   "outputs": [],
   "source": [
    "geodata.columns"
   ]
  }
 ],
 "metadata": {
  "kernelspec": {
   "display_name": ".venv",
   "language": "python",
   "name": "python3"
  },
  "language_info": {
   "codemirror_mode": {
    "name": "ipython",
    "version": 3
   },
   "file_extension": ".py",
   "mimetype": "text/x-python",
   "name": "python",
   "nbconvert_exporter": "python",
   "pygments_lexer": "ipython3",
   "version": "3.11.3"
  }
 },
 "nbformat": 4,
 "nbformat_minor": 2
}
