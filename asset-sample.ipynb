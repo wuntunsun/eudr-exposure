{
 "cells": [
  {
   "cell_type": "code",
   "execution_count": 55,
   "metadata": {},
   "outputs": [],
   "source": [
    "import pandas as pd\n",
    "import geopandas as gpd\n",
    "from pyproj import CRS\n",
    "from shapely.geometry import Polygon\n",
    "from shapely.geometry import Point\n",
    "import rasterio as rio\n",
    "from rasterio import features\n",
    "from rasterio.windows import Window\n",
    "import matplotlib.pyplot as plt\n",
    "import numpy as np\n",
    "import pprint as pp\n",
    "import itertools as it\n",
    "from tqdm import tqdm\n",
    "import time\n",
    "\n",
    "from leaf.deforestation import (\n",
    "    area,\n",
    "    to_series,\n",
    "    closest_index,\n",
    ")\n"
   ]
  },
  {
   "cell_type": "code",
   "execution_count": 57,
   "metadata": {},
   "outputs": [],
   "source": [
    "geo = gpd.read_file('data/Hansen_GFC-2022-v1.10_lossyear_20S_060W.gpkg')\n",
    "asset = pd.read_csv('data/combined_asset_data.csv')"
   ]
  },
  {
   "cell_type": "code",
   "execution_count": 59,
   "metadata": {},
   "outputs": [
    {
     "data": {
      "text/html": [
       "<div>\n",
       "<style scoped>\n",
       "    .dataframe tbody tr th:only-of-type {\n",
       "        vertical-align: middle;\n",
       "    }\n",
       "\n",
       "    .dataframe tbody tr th {\n",
       "        vertical-align: top;\n",
       "    }\n",
       "\n",
       "    .dataframe thead th {\n",
       "        text-align: right;\n",
       "    }\n",
       "</style>\n",
       "<table border=\"1\" class=\"dataframe\">\n",
       "  <thead>\n",
       "    <tr style=\"text-align: right;\">\n",
       "      <th></th>\n",
       "      <th>uid</th>\n",
       "      <th>asset_name</th>\n",
       "      <th>country</th>\n",
       "      <th>start_year</th>\n",
       "      <th>latitude</th>\n",
       "      <th>longitude</th>\n",
       "      <th>parent_name</th>\n",
       "      <th>owner_name</th>\n",
       "      <th>operator_name</th>\n",
       "      <th>sector</th>\n",
       "      <th>data_source</th>\n",
       "    </tr>\n",
       "  </thead>\n",
       "  <tbody>\n",
       "    <tr>\n",
       "      <th>153</th>\n",
       "      <td>GEM_167</td>\n",
       "      <td>Afonso Bezerra wind farm</td>\n",
       "      <td>Brazil</td>\n",
       "      <td>2022.0</td>\n",
       "      <td>-5.3246</td>\n",
       "      <td>-36.5062</td>\n",
       "      <td>NaN</td>\n",
       "      <td>QAir Brasil</td>\n",
       "      <td>QAir Brasil</td>\n",
       "      <td>wind power/onshore</td>\n",
       "      <td>GEM</td>\n",
       "    </tr>\n",
       "    <tr>\n",
       "      <th>154</th>\n",
       "      <td>GEM_168</td>\n",
       "      <td>Afonso Bezerra wind farm</td>\n",
       "      <td>Brazil</td>\n",
       "      <td>2022.0</td>\n",
       "      <td>-5.3612</td>\n",
       "      <td>-36.4723</td>\n",
       "      <td>NaN</td>\n",
       "      <td>QAir Brasil</td>\n",
       "      <td>QAir Brasil</td>\n",
       "      <td>wind power/onshore</td>\n",
       "      <td>GEM</td>\n",
       "    </tr>\n",
       "    <tr>\n",
       "      <th>155</th>\n",
       "      <td>GEM_169</td>\n",
       "      <td>Afonso Bezerra wind farm</td>\n",
       "      <td>Brazil</td>\n",
       "      <td>2022.0</td>\n",
       "      <td>-5.4091</td>\n",
       "      <td>-36.4925</td>\n",
       "      <td>NaN</td>\n",
       "      <td>QAir Brasil</td>\n",
       "      <td>QAir Brasil</td>\n",
       "      <td>wind power/onshore</td>\n",
       "      <td>GEM</td>\n",
       "    </tr>\n",
       "    <tr>\n",
       "      <th>156</th>\n",
       "      <td>GEM_170</td>\n",
       "      <td>Afonso Bezerra wind farm</td>\n",
       "      <td>Brazil</td>\n",
       "      <td>2022.0</td>\n",
       "      <td>-5.3504</td>\n",
       "      <td>-36.4693</td>\n",
       "      <td>NaN</td>\n",
       "      <td>QAir Brasil</td>\n",
       "      <td>QAir Brasil</td>\n",
       "      <td>wind power/onshore</td>\n",
       "      <td>GEM</td>\n",
       "    </tr>\n",
       "    <tr>\n",
       "      <th>157</th>\n",
       "      <td>GEM_171</td>\n",
       "      <td>Afonso Bezerra wind farm</td>\n",
       "      <td>Brazil</td>\n",
       "      <td>2022.0</td>\n",
       "      <td>-5.3151</td>\n",
       "      <td>-36.4892</td>\n",
       "      <td>NaN</td>\n",
       "      <td>QAir Brasil</td>\n",
       "      <td>QAir Brasil</td>\n",
       "      <td>wind power/onshore</td>\n",
       "      <td>GEM</td>\n",
       "    </tr>\n",
       "  </tbody>\n",
       "</table>\n",
       "</div>"
      ],
      "text/plain": [
       "         uid                asset_name country  start_year  latitude  \\\n",
       "153  GEM_167  Afonso Bezerra wind farm  Brazil      2022.0   -5.3246   \n",
       "154  GEM_168  Afonso Bezerra wind farm  Brazil      2022.0   -5.3612   \n",
       "155  GEM_169  Afonso Bezerra wind farm  Brazil      2022.0   -5.4091   \n",
       "156  GEM_170  Afonso Bezerra wind farm  Brazil      2022.0   -5.3504   \n",
       "157  GEM_171  Afonso Bezerra wind farm  Brazil      2022.0   -5.3151   \n",
       "\n",
       "     longitude parent_name   owner_name operator_name              sector  \\\n",
       "153   -36.5062         NaN  QAir Brasil   QAir Brasil  wind power/onshore   \n",
       "154   -36.4723         NaN  QAir Brasil   QAir Brasil  wind power/onshore   \n",
       "155   -36.4925         NaN  QAir Brasil   QAir Brasil  wind power/onshore   \n",
       "156   -36.4693         NaN  QAir Brasil   QAir Brasil  wind power/onshore   \n",
       "157   -36.4892         NaN  QAir Brasil   QAir Brasil  wind power/onshore   \n",
       "\n",
       "    data_source  \n",
       "153         GEM  \n",
       "154         GEM  \n",
       "155         GEM  \n",
       "156         GEM  \n",
       "157         GEM  "
      ]
     },
     "execution_count": 59,
     "metadata": {},
     "output_type": "execute_result"
    }
   ],
   "source": [
    "brazil = asset[asset['country'] == 'Brazil']\n",
    "#blip = brazil[(brazil['longitude'] > -60) & (brazil['longitude'] < -58.8) & (brazil['latitude'] > -21) & (brazil['latitude'] < -20)]\n",
    "brazil.head()"
   ]
  },
  {
   "cell_type": "code",
   "execution_count": null,
   "metadata": {},
   "outputs": [],
   "source": [
    "\n",
    "from typing import Tuple, Optional\n",
    "\n",
    "def closest_(gdf: gpd.GeoDataFrame, lat: float, long: float, year: int, verbose: bool = False) -> Tuple[float, int]:\n",
    "\n",
    "    # TODO: geopandas.sindex.SpatialIndex.nearest\n",
    "    distances = gdf[gdf['lossyear']==year].distance(Point(lat, long))\n",
    "    index = distances.idxmin()\n",
    "    return (distances.iloc[index], index)\n",
    "\n",
    "proj_3857 = geo.to_crs(epsg=3347) # lambert projection\n",
    "#foo = closest_(proj_3857, -22, -55, 2020, False)\n",
    "#print(foo)\n",
    "#geo.iloc[foo[1]]\n",
    "temp = brazil.apply(lambda x: closest_(proj_3857, x.latitude, x.longitude, 2020, False), axis=1)\n",
    "geo.iloc[temp[1]]"
   ]
  },
  {
   "cell_type": "code",
   "execution_count": 64,
   "metadata": {},
   "outputs": [
    {
     "data": {
      "image/png": "[encoded data removed]",
      "text/plain": [
       "<Figure size 640x480 with 2 Axes>"
      ]
     },
     "metadata": {},
     "output_type": "display_data"
    }
   ],
   "source": [
    "geometry=[Point(xy) for xy in zip(brazil[\"longitude\"], brazil[\"latitude\"])]\n",
    "geodata=gpd.GeoDataFrame(brazil,crs=geo.crs, geometry=geometry)\n",
    "base = geo[geo.lossyear==2020].plot(column='group', legend=True)\n",
    "geodata[geodata.start_year==2020].plot(ax=base, marker='o', color='red', markersize=5);\n"
   ]
  },
  {
   "cell_type": "code",
   "execution_count": 63,
   "metadata": {},
   "outputs": [
    {
     "data": {
      "text/plain": [
       "Index(['uid', 'asset_name', 'country', 'start_year', 'latitude', 'longitude',\n",
       "       'parent_name', 'owner_name', 'operator_name', 'sector', 'data_source',\n",
       "       'geometry'],\n",
       "      dtype='object')"
      ]
     },
     "execution_count": 63,
     "metadata": {},
     "output_type": "execute_result"
    }
   ],
   "source": [
    "geodata.columns"
   ]
  }
 ],
 "metadata": {
  "kernelspec": {
   "display_name": ".venv",
   "language": "python",
   "name": "python3"
  },
  "language_info": {
   "codemirror_mode": {
    "name": "ipython",
    "version": 3
   },
   "file_extension": ".py",
   "mimetype": "text/x-python",
   "name": "python",
   "nbconvert_exporter": "python",
   "pygments_lexer": "ipython3",
   "version": "3.11.3"
  }
 },
 "nbformat": 4,
 "nbformat_minor": 2
}
