{
 "cells": [
  {
   "cell_type": "code",
   "execution_count": null,
   "metadata": {},
   "outputs": [],
   "source": [
    "import pandas as pd\n",
    "from sklearn.preprocessing import LabelEncoder\n",
    "\n",
    "    \n",
    "df_gem = pd.read_csv(\"data/loaded_asset/asset_level_open_source_gem.csv\", low_memory=False)\n",
    "\n",
    "# coerce start year into numerical format\n",
    "for var in ['start_year', 'capacity']:\n",
    "    df_gem[var] = pd.to_numeric(df_gem[var], errors='coerce') \n",
    "\n",
    "# drop all observations with a missing start_year\n",
    "df_gem = df_gem[df_gem.start_year.notnull()].reset_index()\n",
    "\n",
    "# drop all observations with a start year outside of 2001-2022\n",
    "df_gem = df_gem[df_gem.start_year.between(2001, 2023)]\n",
    "\n",
    "# main and sub sector\n",
    "df_gem[['sector_main', 'sector_sub']] = df_gem.sector.str.split(\"/\", expand = True, n = 1)\n",
    "df_gem.isnull().sum()\n",
    "\n",
    "# encode subsectors\n",
    "label_encoder = LabelEncoder()\n",
    "df_gem['sector_main_num'] = label_encoder.fit_transform(df_gem['sector_main'])\n",
    "df_gem['sector_num'] = label_encoder.fit_transform(df_gem['sector'])\n",
    "\n",
    "# keep only relevant columns\n",
    "cols_to_keep = ['latitude', 'longitude', 'uid_gem', 'sector_main', \n",
    "                'sector_sub', 'sector_main_num', \n",
    "                'start_year', 'capacity', 'capacity_unit', 'asset_name', 'owner_name', 'country']\n",
    "\n",
    "df_gem = df_gem[cols_to_keep]\n",
    "\n",
    "df_gem.head()"
   ]
  },
  {
   "cell_type": "code",
   "execution_count": null,
   "metadata": {},
   "outputs": [],
   "source": [
    "# step 1: aggregate unit-specific information by uid_gem\n",
    "\n",
    "cols_for_agg = ['capacity', 'start_year', 'sector_sub', 'uid_gem']\n",
    "\n",
    "# 1a: first observaitons \n",
    "df_gem_first = df_gem[cols_for_agg].groupby('uid_gem').nth(0) \\\n",
    "                    .rename(columns={'start_year': 'start_year_first', \n",
    "                                        'capacity': 'capacity_first', \n",
    "                                        'sector_sub': 'sector_sub_first'}).reset_index()\n",
    "\n",
    "assert(len(df_gem_first) == df_gem_first.uid_gem.nunique())\n",
    "\n",
    "# 1b: list of info for subsequent units\n",
    "df_gem_list = df_gem[cols_for_agg].groupby('uid_gem').agg(list).reset_index()\n",
    "\n",
    "assert(len(df_gem_list) == df_gem_list.uid_gem.nunique())\n",
    "\n",
    "# step 2: keep non-changing information about each asset\n",
    "\n",
    "invariant_cols = ['latitude', 'longitude', 'uid_gem', 'sector_main', 'sector_main_num', \n",
    "            'capacity_unit', 'country']\n",
    "\n",
    "df_gem_invariant = df_gem[invariant_cols].drop_duplicates('uid_gem', keep='first')\n",
    "\n",
    "assert(len(df_gem_invariant) == df_gem_invariant.uid_gem.nunique())\n"
   ]
  },
  {
   "cell_type": "code",
   "execution_count": null,
   "metadata": {},
   "outputs": [],
   "source": [
    "# merge aggregated datasets \n",
    "df_gem = pd.merge(df_gem_invariant, df_gem_first, on = 'uid_gem')\n",
    "df_gem = pd.merge(df_gem, df_gem_list, on = 'uid_gem').reset_index(drop=True)\n",
    "\n",
    "# retrieve number of units within an asset\n",
    "df_gem['number_units'] = df_gem.start_year.apply(lambda x: len(x))\n",
    "\n",
    "# check lenght of data \n",
    "assert(len(df_gem) == df_gem.uid_gem.nunique())\n",
    "\n",
    "# export data\n",
    "df_gem.to_csv('data/assets_for_deforestation.csv', index=False, sep='\\t', encoding='utf-8')\n",
    "\n"
   ]
  }
 ],
 "metadata": {
  "kernelspec": {
   "display_name": ".venv",
   "language": "python",
   "name": "python3"
  },
  "language_info": {
   "codemirror_mode": {
    "name": "ipython",
    "version": 3
   },
   "file_extension": ".py",
   "mimetype": "text/x-python",
   "name": "python",
   "nbconvert_exporter": "python",
   "pygments_lexer": "ipython3",
   "version": "3.11.3"
  }
 },
 "nbformat": 4,
 "nbformat_minor": 2
}
