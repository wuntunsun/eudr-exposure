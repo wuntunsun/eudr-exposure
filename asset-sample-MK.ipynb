{
 "cells": [
  {
   "cell_type": "code",
   "execution_count": null,
   "metadata": {},
   "outputs": [],
   "source": [
    "import pandas as pd\n",
    "import geopandas as gpd\n",
    "from pyproj import CRS\n",
    "from shapely.geometry import Polygon\n",
    "from shapely.geometry import Point\n",
    "import rasterio as rio\n",
    "from rasterio import features\n",
    "from rasterio.windows import Window\n",
    "import matplotlib.pyplot as plt\n",
    "import numpy as np\n",
    "import pprint as pp\n",
    "import itertools as it\n",
    "from tqdm import tqdm\n",
    "import time\n",
    "\n",
    "from leaf.deforestation import (\n",
    "    area,\n",
    "    to_lossyear_timeseries,\n",
    "    closest_index,\n",
    ")\n"
   ]
  },
  {
   "cell_type": "code",
   "execution_count": null,
   "metadata": {},
   "outputs": [],
   "source": [
    "geo = gpd.read_file('data/Hansen_GFC-2022-v1.10_lossyear_20S_060W_0_0_5000_5000.gpkg')\n",
    "asset = pd.read_csv('data/combined_asset_data.csv')"
   ]
  },
  {
   "cell_type": "code",
   "execution_count": null,
   "metadata": {},
   "outputs": [],
   "source": [
    "num_changes = geo.groupby('group').area.count().sort_values(ascending = False).reset_index().rename(columns = {'area':'num_changes'})\n",
    "num_changes"
   ]
  },
  {
   "cell_type": "code",
   "execution_count": null,
   "metadata": {},
   "outputs": [],
   "source": [
    "# turn into \"proper\" panel data\n",
    "\n",
    "# get number of unique IDs and loss years\n",
    "group_ids = geo.group.unique()\n",
    "group_ids\n",
    "lossyears = range(2001, 2023)\n",
    "\n",
    "index = pd.DataFrame(it.product(group_ids, lossyears), columns=['group', 'lossyear'])\n",
    "\n",
    "# combine the datasets\n",
    "geo_mid = pd.merge(index, geo, on=['lossyear', 'group'], how='outer').sort_values(['group', 'lossyear']).reset_index().drop(columns=['index'])\n",
    "geo_ts = pd.merge(geo_mid, num_changes, on=['group'], how='outer')\n",
    "geo_ts[geo_ts.group == 54153].head()"
   ]
  },
  {
   "cell_type": "code",
   "execution_count": null,
   "metadata": {},
   "outputs": [],
   "source": [
    "# replace all 2001 values with a 0 if missing\n",
    "geo_ts.loc[(geo_ts['lossyear'] == 2001) & (geo_ts['area'].isna()), 'area'] = 0\n",
    "\n",
    "#### front fill values ####\n",
    "## AREA (simple front fill)\n",
    "\n",
    "geo_ts.area.fillna(method = 'ffill', inplace = True)\n",
    "\n",
    "## GEOMETRY (involved front fill)\n",
    "\n",
    "# Step 1: assign empty geometry to first observation in group if is empty\n",
    "geo_ts.loc[(geo_ts['lossyear'] == 2001) & (geo_ts['geometry'].isna()), 'geometry'] = Polygon([])\n",
    "\n",
    "# Step 2: turn geoseries into strings (geoseries do not support front fill)\n",
    "geo_ts['geo_string'] = geo_ts['geometry'].apply(lambda geom: geom.wkt if not pd.isnull(geom) else None)\n",
    "\n",
    "# Step 3: front fill values (automatically by group, due to step 1)\n",
    "geo_ts.geo_string.fillna(method = 'ffill', inplace = True)\n",
    "\n",
    "# Step 4: turn imputed strings back to geoseries\n",
    "geo_ts['geometry'] = gpd.GeoSeries.from_wkt(geo_ts.geo_string)\n",
    "\n",
    "# Step 5: drop auxiliary column\n",
    "geo_ts.drop(columns = ['geo_string'], inplace = True)\n",
    "\n",
    "# check dataset\n",
    "geo_ts.head(30)"
   ]
  },
  {
   "cell_type": "code",
   "execution_count": null,
   "metadata": {},
   "outputs": [],
   "source": [
    "# from deforestation.py\n",
    "\n",
    "# cumulative area: \n",
    "\n",
    "temp3['cum_area'] = proj_3857.groupby(group_id).area.cumsum()\n",
    "\n",
    "for i in tqdm(group_ids.to_numpy()):\n",
    "    temp3.loc[i, 'cum_geometry'] = list(it.accumulate(temp3.loc[i, 'geometry'], func=lambda x,y: x.union(y)))\n"
   ]
  },
  {
   "cell_type": "code",
   "execution_count": null,
   "metadata": {},
   "outputs": [],
   "source": [
    "brazil = asset[asset['country'] == 'Brazil']\n",
    "blip = brazil[(brazil['longitude'] > -60) & (brazil['longitude'] < -58.8) & (brazil['latitude'] > -21) & (brazil['latitude'] < -20)]\n",
    "\n",
    "from typing import Tuple, Optional\n",
    "\n",
    "def closest_(gdf: gpd.GeoDataFrame, lat: float, long: float, year: int, verbose: bool = False) -> Tuple[float, int]:\n",
    "\n",
    "    # TODO: geopandas.sindex.SpatialIndex.nearest\n",
    "    distances = gdf[gdf['lossyear']==year].distance(Point(lat, long))\n",
    "    index = distances.idxmin()\n",
    "    return (distances.iloc[index], index)\n",
    "\n",
    "proj_3857 = geo.to_crs(epsg=3347) # lambert projection\n",
    "#foo = closest_(proj_3857, -22, -55, 2020, False)\n",
    "#print(foo)\n",
    "#geo.iloc[foo[1]]\n",
    "temp = brazil.apply(lambda x: closest_(proj_3857, x.latitude, x.longitude, 2020, False), axis=1)\n",
    "# geo.iloc[temp[1]]"
   ]
  },
  {
   "cell_type": "code",
   "execution_count": null,
   "metadata": {},
   "outputs": [],
   "source": [
    "#print(blip.head())\n",
    "#brazil[[mask]]#.first_valid_index()\n",
    "geometry=[Point(xy) for xy in zip(brazil[\"longitude\"], brazil[\"latitude\"])]\n",
    "geodata=gpd.GeoDataFrame(None,crs=geo.crs, geometry=geometry)\n",
    "base = geo[geo.lossyear==2020].plot(column='group', legend=True)\n",
    "geodata.plot(ax=base, marker='o', color='red', markersize=5);\n",
    "base.set_xlim(-60, -50)\n",
    "base.set_ylim(-22, -20)\n"
   ]
  }
 ],
 "metadata": {
  "kernelspec": {
   "display_name": ".venv",
   "language": "python",
   "name": "python3"
  },
  "language_info": {
   "codemirror_mode": {
    "name": "ipython",
    "version": 3
   },
   "file_extension": ".py",
   "mimetype": "text/x-python",
   "name": "python",
   "nbconvert_exporter": "python",
   "pygments_lexer": "ipython3",
   "version": "3.11.3"
  }
 },
 "nbformat": 4,
 "nbformat_minor": 2
}
