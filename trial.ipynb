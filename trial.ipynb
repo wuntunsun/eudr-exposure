{
 "cells": [
  {
   "cell_type": "code",
   "execution_count": 200,
   "metadata": {},
   "outputs": [
    {
     "name": "stderr",
     "output_type": "stream",
     "text": [
      "/var/folders/38/htb96lxn74vght_msfty2d8w0000gn/T/ipykernel_79254/442999034.py:4: DtypeWarning: Columns (10,12) have mixed types. Specify dtype option on import or set low_memory=False.\n",
      "  df_gem = pd.read_csv(\"data/asset_level_open_source_gem.csv\")\n"
     ]
    }
   ],
   "source": [
    "import pandas as pd\n",
    "import numpy as np\n",
    "\n",
    "df_gem = pd.read_csv(\"data/asset_level_open_source_gem.csv\")\n",
    "df_gem['data_source'] = 'GEM'\n",
    "\n",
    "df_clt = pd.read_csv(\"data/asset_level_open_source_climate_trace.csv\")\n",
    "df_clt['data_source'] = 'Climate Trace'\n",
    "df_clt.rename(columns = {\"company_name\": \"owner_name\"}, inplace = True)\n",
    "\n",
    "df_sfi = pd.read_csv(\"data/asset_level_open_source_sfi.csv\")\n",
    "df_sfi['data_source'] = 'SFI'\n",
    "\n",
    "df = pd.concat([df_gem, df_clt, df_sfi], axis = 0).reset_index()\n",
    "\n",
    "cols_to_keep = ['uid', 'asset_name', 'country',\n",
    "                'start_year', 'latitude', 'longitude',\n",
    "                'parent_name', 'owner_name', 'operator_name',\n",
    "                'sector', 'data_source']\n",
    "\n",
    "df = df[cols_to_keep]\n",
    "\n",
    "# turn columns into numeric\n",
    "num_cols = ['start_year', 'latitude', 'longitude']\n",
    "for col in num_cols: \n",
    "    df[col] = pd.to_numeric(df[col], errors='coerce')\n",
    "    \n",
    "# drop rows wehre all ownership info is missng\n",
    "    \n",
    "df.dropna(axis = 0, subset = ['owner_name', 'latitude', 'longitude'], how = 'any', inplace = True)\n"
   ]
  },
  {
   "cell_type": "code",
   "execution_count": 202,
   "metadata": {},
   "outputs": [
    {
     "data": {
      "text/plain": [
       "uid                  0\n",
       "asset_name        5222\n",
       "country              0\n",
       "start_year       26147\n",
       "latitude             0\n",
       "longitude            0\n",
       "parent_name      24840\n",
       "owner_name           0\n",
       "operator_name    37686\n",
       "sector               0\n",
       "data_source          0\n",
       "dtype: int64"
      ]
     },
     "execution_count": 202,
     "metadata": {},
     "output_type": "execute_result"
    }
   ],
   "source": [
    "df.isnull().sum()"
   ]
  },
  {
   "cell_type": "code",
   "execution_count": 182,
   "metadata": {},
   "outputs": [
    {
     "data": {
      "text/plain": [
       "10655"
      ]
     },
     "execution_count": 182,
     "metadata": {},
     "output_type": "execute_result"
    }
   ],
   "source": []
  },
  {
   "cell_type": "code",
   "execution_count": null,
   "metadata": {},
   "outputs": [],
   "source": []
  },
  {
   "cell_type": "code",
   "execution_count": null,
   "metadata": {},
   "outputs": [],
   "source": []
  },
  {
   "cell_type": "code",
   "execution_count": null,
   "metadata": {},
   "outputs": [],
   "source": []
  }
 ],
 "metadata": {
  "kernelspec": {
   "display_name": ".venv",
   "language": "python",
   "name": "python3"
  },
  "language_info": {
   "codemirror_mode": {
    "name": "ipython",
    "version": 3
   },
   "file_extension": ".py",
   "mimetype": "text/x-python",
   "name": "python",
   "nbconvert_exporter": "python",
   "pygments_lexer": "ipython3",
   "version": "3.11.3"
  }
 },
 "nbformat": 4,
 "nbformat_minor": 2
}
