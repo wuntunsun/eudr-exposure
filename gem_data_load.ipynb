{
 "cells": [
  {
   "cell_type": "markdown",
   "metadata": {},
   "source": [
    "# Set-up"
   ]
  },
  {
   "cell_type": "code",
   "execution_count": null,
   "metadata": {},
   "outputs": [],
   "source": [
    "import os\n",
    "import pandas as pd\n",
    "import numpy as np  \n",
    "import matplotlib.pyplot as plt\n",
    "import seaborn as sns"
   ]
  },
  {
   "cell_type": "markdown",
   "metadata": {},
   "source": [
    "# Load data"
   ]
  },
  {
   "cell_type": "code",
   "execution_count": null,
   "metadata": {},
   "outputs": [],
   "source": [
    "features = [\"plant_id\", \"country\", \n",
    "                \"capacity\", \"capacity_unit\",\n",
    "                \"latitude\", \"longitude\", \"location_accuracy\",\n",
    "                \"ownership_parent_name\", \"ownership_parent_id\",\n",
    "                \"ownership_owner_name\", \"ownership_owner_id\",\n",
    "                \"ownership_operator_name\", \"ownership_operator_id\",\n",
    "                \"sector\"]\n",
    "\n",
    "# start operating year\n",
    "    "
   ]
  },
  {
   "cell_type": "markdown",
   "metadata": {},
   "source": [
    "## get filenames of files of interest"
   ]
  },
  {
   "cell_type": "code",
   "execution_count": null,
   "metadata": {},
   "outputs": [],
   "source": [
    "data_folder = \"data/asset_level_data/global_energy_monitor/\"\n",
    "\n",
    "files_for_import = os.listdir(data_folder)\n",
    "\n",
    "# remove files for pipelines and GEM preprocessed data\n",
    "files_for_import = [file for file in files_for_import if 'Pipeline' not in file and 'preprocessed' not in file]\n",
    "files_for_import"
   ]
  },
  {
   "cell_type": "markdown",
   "metadata": {},
   "source": [
    "## extract sector names for files of interest"
   ]
  },
  {
   "cell_type": "code",
   "execution_count": null,
   "metadata": {},
   "outputs": [],
   "source": [
    "# create simple names for each dataset\n",
    "def extract_sectors(files_for_import): \n",
    "\n",
    "    sectors = []\n",
    "    for file in files_for_import: \n",
    "        if \"Global\" in file: \n",
    "        \n",
    "            start = 'Global-'\n",
    "            end = '-Tracker'\n",
    "            \n",
    "        else:\n",
    "            start = 'GEM-GGIT-'\n",
    "            end = '-2023'\n",
    "        \n",
    "        sector = file[file.find(start)+len(start):file.rfind(end)].lower().replace('-', '_')\n",
    "        sectors.append(sector)\n",
    "    \n",
    "    return sectors\n",
    "\n",
    "sectors = extract_sectors(files_for_import)\n",
    "sectors"
   ]
  },
  {
   "cell_type": "markdown",
   "metadata": {},
   "source": [
    "## extract sheet names for files of interest"
   ]
  },
  {
   "cell_type": "code",
   "execution_count": null,
   "metadata": {},
   "outputs": [],
   "source": [
    "sheets = []\n",
    "\n",
    "for sector, file in list(zip(sectors, files_for_import)):\n",
    "    xl = pd.ExcelFile(data_folder + file)    \n",
    "    names = xl.sheet_names  # see all sheet names\n",
    "    \n",
    "    if 'About' in names: \n",
    "        sheets.append(names[1])\n",
    "    else: \n",
    "        sheets.append(names[0])"
   ]
  },
  {
   "cell_type": "code",
   "execution_count": null,
   "metadata": {},
   "outputs": [],
   "source": [
    "dict_files = {}\n",
    "for sector, file, sheet in list(zip(sectors, files_for_import, sheets)): \n",
    "    dict_files[sector] = {'file_name': file, 'sheet_name': sheet}\n",
    "\n",
    "dict_files['nuclear_power']['file_name']\n"
   ]
  },
  {
   "cell_type": "markdown",
   "metadata": {},
   "source": [
    "## LNG Terminals"
   ]
  },
  {
   "cell_type": "code",
   "execution_count": null,
   "metadata": {},
   "outputs": [],
   "source": [
    "# load data\n",
    "lng_terminals           = pd.read_excel(data_folder + dict_files['lng_terminals']['file_name'], sheet_name = dict_files['lng_terminals']['sheet_name'])\n",
    "\n",
    "# rename columns\n",
    "lng_terminals.columns   = lng_terminals.columns.str.lower()\n",
    "\n",
    "# report pre-cleaning\n",
    "print(f\"LNG Terminals data before cleaning dimensions: {lng_terminals.shape}\")\n",
    "\n",
    "# keep only operating plants\n",
    "lng_terminals = lng_terminals[lng_terminals.status == \"Operating\"].reset_index()\n",
    "print(f\"Number of operating plants: {lng_terminals.shape[0]}\")\n",
    "\n",
    "# convert terminal and unitname into one\n",
    "lng_terminals['unitname'].fillna(value = \"\", inplace = True)\n",
    "lng_terminals['asset_name'] = lng_terminals.terminalname + \" \" + lng_terminals.unitname\n",
    "\n",
    "# keep only relevant columns - MAKE SURE IT IS IN THE ORDER OF FEATURE NAMES!!!\n",
    "feature_names = [\"asset_name\", \"owner\", \"parent\", \"parent_location\", \n",
    "                 \"capacity\", \"country\", \"region\", \"location\" , \"latitude\", \"longitude\", \n",
    "                 \"accuracy\", \"start_year\", \"proposal_year\", \"construction_start_year\", \"status\", \"last_updated\"]\n",
    "\n",
    "cols_to_keep = ['asset_name', 'owner', 'parent', 'parenthqcountry', \n",
    "                'capacity', 'country', 'region', 'location', 'latitude', 'longitude', \n",
    "                'accuracy', 'startyearearliest', 'proposalyear', 'constructionyear', 'status', 'lastupdated']\n",
    "\n",
    "lng_terminals = lng_terminals[cols_to_keep]\n",
    "lng_terminals.rename(columns = {old: new for old, new in list(zip(cols_to_keep, feature_names))}, inplace = True)\n",
    "\n",
    "# generate sector \n",
    "lng_terminals['sector'] = \"LNG terminal\"\n",
    "\n",
    "# look at the final set\n",
    "lng_terminals\n",
    "\n"
   ]
  },
  {
   "cell_type": "markdown",
   "metadata": {},
   "source": [
    "# Nuclear power"
   ]
  },
  {
   "cell_type": "code",
   "execution_count": null,
   "metadata": {},
   "outputs": [],
   "source": [
    "# load data\n",
    "nuclear_power           = pd.read_excel(data_folder + dict_files['nuclear_power']['file_name'], sheet_name = dict_files['nuclear_power']['sheet_name'])\n",
    "\n",
    "# rename columns\n",
    "nuclear_power.columns   = nuclear_power.columns.str.lower().str.replace(\" \", \"_\")\n",
    "\n",
    "# report pre-cleaning\n",
    "print(f\"Nuclear power data before cleaning dimensions: {nuclear_power.shape}\")\n",
    "\n",
    "# keep only operating plants\n",
    "nuclear_power = nuclear_power[nuclear_power.status == \"operating\"].reset_index()\n",
    "print(f\"Number of operating plants: {nuclear_power.shape[0]}\")\n",
    "\n",
    "# convert terminal and unitname into one\n",
    "nuclear_power['unit_name'].fillna(value = \"\", inplace = True)\n",
    "nuclear_power['asset_name'] = nuclear_power.project_name + \" \" + nuclear_power.unit_name\n",
    "\n",
    "# convert construction date\n",
    "nuclear_power['construction_year'] = pd.to_datetime(nuclear_power['construction_start_date']).dt.year\n",
    "\n",
    "# keep only relevant columns - MAKE SURE IT IS IN THE ORDER OF FEATURE NAMES!!!\n",
    "feature_names = [\"asset_name\", \"owner\", \n",
    "                 \"capacity\", \"country\", \"region\", \"location\" , \"latitude\", \"longitude\", \n",
    "                 \"accuracy\", \"start_year\", \"status\", \"construction_year\",  \"last_updated\"]\n",
    "\n",
    "cols_to_keep = ['asset_name', 'owner', \n",
    "                'capacity_(mw)', 'country', 'region', 'city', 'latitude', 'longitude', \n",
    "                'location_accuracy', 'start_year', 'status', 'construction_year', 'date_last_researched']\n",
    "            \n",
    "\n",
    "nuclear_power = nuclear_power[cols_to_keep]\n",
    "nuclear_power.rename(columns = {old: new for old, new in list(zip(cols_to_keep, feature_names))}, inplace = True)\n",
    "\n",
    "# generate column for sector \n",
    "nuclear_power[\"sector\"] = \"nuclear power plant\"\n",
    "\n",
    "# look at the final set\n",
    "nuclear_power\n"
   ]
  },
  {
   "cell_type": "markdown",
   "metadata": {},
   "source": [
    "# Hydropower"
   ]
  },
  {
   "cell_type": "code",
   "execution_count": null,
   "metadata": {},
   "outputs": [],
   "source": [
    "# load data\n",
    "hydropower        = pd.read_excel(data_folder + dict_files['hydropower']['file_name'], sheet_name = dict_files['hydropower']['sheet_name'])\n",
    "\n",
    "# rename columns\n",
    "hydropower.columns   = hydropower.columns.str.lower().str.replace(\" \", \"_\")\n",
    "\n",
    "# report pre-cleaning\n",
    "print(f\"Hydropower data before cleaning dimensions: {hydropower.shape}\")\n",
    "\n",
    "# keep only operating plants\n",
    "hydropower = hydropower[hydropower.status == \"operating\"].reset_index()\n",
    "print(f\"Number of operating plants: {hydropower.shape[0]}\")\n",
    "\n",
    "# # keep only relevant columns - MAKE SURE IT IS IN THE ORDER OF FEATURE NAMES!!!\n",
    "feature_names = [\"asset_name\", \"owner\", \n",
    "                 \"capacity\", \"country\", \"region\", \"location\" , \"latitude\", \"longitude\", \n",
    "                 \"accuracy\", \"start_year\", \"status\"]\n",
    "\n",
    "cols_to_keep = ['project_name', 'owner', \n",
    "                'capacity_(mw)', 'country_1', 'region_1', 'city_1', 'latitude', 'longitude', \n",
    "                'location_accuracy', 'start_year', 'status']\n",
    "    # does not have parent owner info + date last researched\n",
    "\n",
    "hydropower = hydropower[cols_to_keep]\n",
    "hydropower.rename(columns = {old: new for old, new in list(zip(cols_to_keep, feature_names))}, inplace = True)\n",
    "\n",
    "# # generate column for sector \n",
    "hydropower[\"sector\"] = \"hydropower plant\"\n",
    "\n",
    "# # look at the final set\n",
    "hydropower.columns\n"
   ]
  },
  {
   "cell_type": "markdown",
   "metadata": {},
   "source": [
    "# Geothermal"
   ]
  },
  {
   "cell_type": "code",
   "execution_count": null,
   "metadata": {},
   "outputs": [],
   "source": [
    "# load data\n",
    "geothermal_power           = pd.read_excel(data_folder + dict_files['geothermal_power']['file_name'], sheet_name = dict_files['geothermal_power']['sheet_name'])\n",
    "\n",
    "# rename columns\n",
    "geothermal_power.columns   = geothermal_power.columns.str.lower().str.replace(\" \", \"_\")\n",
    "\n",
    "# report pre-cleaning\n",
    "print(f\"Geothermal data before cleaning dimensions: {geothermal_power.shape}\")\n",
    "\n",
    "# keep only operating plants\n",
    "geothermal_power = geothermal_power[geothermal_power.status == \"operating\"].reset_index()\n",
    "print(f\"Number of operating plants: {geothermal_power.shape[0]}\")\n",
    "\n",
    "# # convert terminal and unitname into one\n",
    "geothermal_power['unit_name'].fillna(value = \"\", inplace = True)\n",
    "geothermal_power['asset_name'] = geothermal_power.project_name + \" \" + geothermal_power.unit_name\n",
    "\n",
    "# keep only relevant columns - MAKE SURE IT IS IN THE ORDER OF FEATURE NAMES!!!\n",
    "feature_names = [\"asset_name\", \"owner\",  \n",
    "                 \"capacity\", \"country\", \"region\", \"location\" , \"latitude\", \"longitude\", \n",
    "                 \"accuracy\", \"start_year\", \"status\", \"last_updated\"]\n",
    "\n",
    "cols_to_keep = ['asset_name', 'owner', \n",
    "                'unit_capacity_(mw)', 'country', 'region', 'city', 'latitude', 'longitude', \n",
    "                'location_accuracy', 'start_year', 'status', 'date_last_researched']\n",
    "    # does not have info about parent owner\n",
    "\n",
    "geothermal_power = geothermal_power[cols_to_keep]\n",
    "geothermal_power.rename(columns = {old: new for old, new in list(zip(cols_to_keep, feature_names))}, inplace = True)\n",
    "\n",
    "# generate sector \n",
    "geothermal_power['sector'] = \"geothermal power plant\"\n",
    "\n",
    "# look at the final set\n",
    "# geothermal_power.columns\n",
    "geothermal_power\n",
    "\n"
   ]
  },
  {
   "cell_type": "markdown",
   "metadata": {},
   "source": [
    "# Oil and gas extraction"
   ]
  },
  {
   "cell_type": "code",
   "execution_count": null,
   "metadata": {},
   "outputs": [],
   "source": [
    "# load data\n",
    "oil_and_gas_extraction  = pd.read_excel(data_folder + dict_files['oil_and_gas_extraction']['file_name'], sheet_name = dict_files['oil_and_gas_extraction']['sheet_name'])\n",
    "\n",
    "# rename columns\n",
    "oil_and_gas_extraction.columns   = oil_and_gas_extraction.columns.str.lower().str.replace(\" \", \"_\")\n",
    "\n",
    "# # report pre-cleaning\n",
    "print(f\"Oil and gas extraction before cleaning dimensions: {oil_and_gas_extraction.shape}\")\n",
    "\n",
    "# # keep only operating plants\n",
    "oil_and_gas_extraction = oil_and_gas_extraction[oil_and_gas_extraction.status == \"operating\"].reset_index()\n",
    "print(f\"Number of operating plants: {oil_and_gas_extraction.shape[0]}\")\n",
    "\n",
    "# keep only relevant columns - MAKE SURE IT IS IN THE ORDER OF FEATURE NAMES!!!\n",
    "feature_names = [\"asset_name\", \"owner\", \"parent\", \n",
    "                 \"country\", \"region\" , \"latitude\", \"longitude\", \n",
    "                 \"accuracy\", \"start_year\", \"status\", 'discovery_year', \"last_updated\"]\n",
    "\n",
    "cols_to_keep = ['unit_name', 'owner', \"parent\", \n",
    "                'country', 'subnational_unit_(province,_state)', 'latitude', 'longitude', \n",
    "                'location_accuracy', 'production_start_year', 'status', 'discovery_year', 'status_year']\n",
    "    # does not have info about parent location and capacity, and location of production\n",
    "\n",
    "oil_and_gas_extraction = oil_and_gas_extraction[cols_to_keep]\n",
    "oil_and_gas_extraction.rename(columns = {old: new for old, new in list(zip(cols_to_keep, feature_names))}, inplace = True)\n",
    "\n",
    "# generate sector \n",
    "oil_and_gas_extraction['sector'] = \"oil and gas extraction\"\n",
    "\n",
    "# look at the final set\n",
    "# oil_and_gas_extraction.columns\n",
    "oil_and_gas_extraction\n",
    "\n"
   ]
  },
  {
   "cell_type": "markdown",
   "metadata": {},
   "source": [
    "# Wind power"
   ]
  },
  {
   "cell_type": "code",
   "execution_count": null,
   "metadata": {},
   "outputs": [],
   "source": [
    "# load data\n",
    "wind_power              = pd.read_excel(data_folder + dict_files['wind_power']['file_name'], sheet_name = dict_files['wind_power']['sheet_name']) \n",
    "\n",
    "# rename columns\n",
    "wind_power.columns   = wind_power.columns.str.lower().str.replace(\" \", \"_\")\n",
    "\n",
    "# # report pre-cleaning\n",
    "print(f\"Wind power data before cleaning dimensions: {wind_power.shape}\")\n",
    "\n",
    "# # keep only operating plants\n",
    "wind_power = wind_power[wind_power.status == \"operating\"].reset_index()\n",
    "print(f\"Number of operating plants: {wind_power.shape[0]}\")\n",
    "\n",
    "# # convert terminal and unitname into one\n",
    "wind_power['phase_name'].fillna(value = \"\", inplace = True)\n",
    "wind_power['asset_name'] = wind_power.project_name + \" \" + wind_power.phase_name\n",
    "\n",
    "# # keep only relevant columns - MAKE SURE IT IS IN THE ORDER OF FEATURE NAMES!!!\n",
    "feature_names = [\"asset_name\", \"owner\", \n",
    "                 \"capacity\", \"country\", \"region\", \"location\" , \"latitude\", \"longitude\", \n",
    "                 \"accuracy\", \"start_year\", \"status\", \"last_updated\"]\n",
    "\n",
    "cols_to_keep = ['asset_name', 'owner', \n",
    "                'capacity_(mw)', 'country', 'region', 'city', 'latitude', 'longitude', \n",
    "                'location_accuracy', 'start_year', 'status', 'date_last_researched']\n",
    "\n",
    "wind_power = wind_power[cols_to_keep]\n",
    "wind_power.rename(columns = {old: new for old, new in list(zip(cols_to_keep, feature_names))}, inplace = True)\n",
    "\n",
    "# generate sector \n",
    "wind_power['sector'] = \"wind power plant\"\n",
    "\n",
    "# look at the final set\n",
    "# wind_power.columns\n",
    "wind_power\n",
    "\n"
   ]
  },
  {
   "cell_type": "markdown",
   "metadata": {},
   "source": [
    "# Steel plant"
   ]
  },
  {
   "cell_type": "code",
   "execution_count": null,
   "metadata": {},
   "outputs": [],
   "source": [
    "# load data\n",
    "steel_plant             = pd.read_excel(data_folder + dict_files['steel_plant']['file_name'], sheet_name = dict_files['steel_plant']['sheet_name'])\n",
    "\n",
    "# rename columns\n",
    "steel_plant.columns   = steel_plant.columns.str.lower().str.replace(\" \", \"_\")\n",
    "\n",
    "# report pre-cleaning\n",
    "print(f\"Steel plant data before cleaning dimensions: {steel_plant.shape}\")\n",
    "\n",
    "# # keep only operating plants\n",
    "steel_plant = steel_plant[steel_plant.status == \"operating\"].reset_index()\n",
    "print(f\"Number of operating plants: {steel_plant.shape[0]}\")\n",
    "\n",
    "# split coordinates into latitude and longitude\n",
    "steel_plant[['latitude', 'longitude']] = steel_plant['coordinates'].str.split(',', expand=True)\n",
    "steel_plant.latitude = pd.to_numeric(steel_plant.latitude) \n",
    "steel_plant.longitude = pd.to_numeric(steel_plant.longitude) \n",
    "\n",
    "# keep only relevant columns - MAKE SURE IT IS IN THE ORDER OF FEATURE NAMES!!!\n",
    "feature_names = [\"asset_name\", \"owner\", \"parent\", \n",
    "                 \"country\", \"region\", \"location\" , \"latitude\", \"longitude\", \n",
    "                 \"accuracy\", \"start_year\", \"construction_year\", \"status\"]\n",
    "\n",
    "cols_to_keep = ['plant_name_(english)', 'owner', 'parent_[formula]', \n",
    "                'country', 'region', 'municipality', 'latitude', 'longitude', \n",
    "                'coordinate_accuracy', 'start_date', 'construction_date', 'status']\n",
    "\n",
    "\n",
    "steel_plant = steel_plant[cols_to_keep]\n",
    "steel_plant.rename(columns = {old: new for old, new in list(zip(cols_to_keep, feature_names))}, inplace = True)\n",
    "\n",
    "# generate sector \n",
    "steel_plant['sector'] = \"steel plant\"\n",
    "\n",
    "# look at the final set\n",
    "steel_plant.columns\n",
    "steel_plant\n"
   ]
  },
  {
   "cell_type": "markdown",
   "metadata": {},
   "source": [
    "# Coal"
   ]
  },
  {
   "cell_type": "code",
   "execution_count": null,
   "metadata": {},
   "outputs": [],
   "source": [
    "# load data\n",
    "coal_plant              = pd.read_excel(data_folder + dict_files['coal_plant']['file_name'], sheet_name = dict_files['coal_plant']['sheet_name'])\n",
    "\n",
    "# rename columns\n",
    "coal_plant.columns   = coal_plant.columns.str.lower().str.replace(\" \", \"_\")\n",
    "\n",
    "# report pre-cleaning\n",
    "print(f\"Steel plant data before cleaning dimensions: {coal_plant.shape}\")\n",
    "\n",
    "# # keep only operating plants\n",
    "coal_plant = coal_plant[coal_plant.status == \"operating\"].reset_index()\n",
    "print(f\"Number of operating plants: {coal_plant.shape[0]}\")\n",
    "\n",
    "# convert plant and unit name into one\n",
    "coal_plant['unit_name'].fillna(value = \"\", inplace = True)\n",
    "coal_plant['asset_name'] = coal_plant.plant_name + \" \" + coal_plant.unit_name\n",
    "\n",
    "\n",
    "# keep only relevant columns - MAKE SURE IT IS IN THE ORDER OF FEATURE NAMES!!!\n",
    "feature_names = [\"asset_name\", \"owner\", \"parent\", \n",
    "                 \"capacity\", \"country\", \"region\", \"location\" , \"latitude\", \"longitude\", \n",
    "                 \"accuracy\", \"start_year\", \"status\"]\n",
    "\n",
    "cols_to_keep = ['asset_name', 'owner', 'parent', \n",
    "                'capacity_(mw)', 'country', 'region', 'location', 'latitude', 'longitude', \n",
    "                'location_accuracy', 'start_year', 'status']\n",
    "\n",
    "coal_plant = coal_plant[cols_to_keep]\n",
    "coal_plant.rename(columns = {old: new for old, new in list(zip(cols_to_keep, feature_names))}, inplace = True)\n",
    "\n",
    "# generate sector \n",
    "coal_plant['sector'] = \"coal plant\"\n",
    "\n",
    "# look at the final set\n",
    "coal_plant.columns\n",
    "coal_plant\n"
   ]
  },
  {
   "cell_type": "markdown",
   "metadata": {},
   "source": [
    "# Solar power"
   ]
  },
  {
   "cell_type": "code",
   "execution_count": null,
   "metadata": {},
   "outputs": [],
   "source": [
    "# load data\n",
    "solar_power             = pd.read_excel(data_folder + dict_files['solar_power']['file_name'], sheet_name = dict_files['solar_power']['sheet_name'])\n",
    "\n",
    "# rename columns\n",
    "solar_power.columns   = solar_power.columns.str.lower().str.replace(\" \", \"_\")\n",
    "\n",
    "# report pre-cleaning\n",
    "print(f\"Solar power plant data before cleaning dimensions: {solar_power.shape}\")\n",
    "\n",
    "# # keep only operating plants\n",
    "solar_power = solar_power[solar_power.status == \"operating\"].reset_index()\n",
    "print(f\"Number of operating plants: {solar_power.shape[0]}\")\n",
    "\n",
    "# convert plant and unit name into one\n",
    "solar_power['phase_name'].fillna(value = \"\", inplace = True)\n",
    "solar_power['asset_name'] = solar_power.project_name + \" \" + solar_power.phase_name\n",
    "\n",
    "\n",
    "# keep only relevant columns - MAKE SURE IT IS IN THE ORDER OF FEATURE NAMES!!!\n",
    "feature_names = [\"asset_name\", \"owner\", \n",
    "                 \"capacity\", \"country\", \"region\", \"location\" , \"latitude\", \"longitude\", \n",
    "                 \"accuracy\", \"start_year\", \"status\", \"last_updated\"]\n",
    "\n",
    "cols_to_keep = ['asset_name', 'owner', \n",
    "                'capacity_(mw)', 'country', 'region', 'city', 'latitude', 'longitude', \n",
    "                'location_accuracy', 'start_year', 'status', 'date_last_researched']\n",
    "\n",
    "solar_power = solar_power[cols_to_keep]\n",
    "solar_power.rename(columns = {old: new for old, new in list(zip(cols_to_keep, feature_names))}, inplace = True)\n",
    "\n",
    "# generate sector \n",
    "solar_power['sector'] = \"solar power plant\"\n",
    "\n",
    "# look at the final set\n",
    "solar_power.columns\n",
    "solar_power\n"
   ]
  },
  {
   "cell_type": "markdown",
   "metadata": {},
   "source": [
    "# Bioenergy power"
   ]
  },
  {
   "cell_type": "code",
   "execution_count": null,
   "metadata": {},
   "outputs": [],
   "source": [
    "# load data\n",
    "bioenergy_power         = pd.read_excel(data_folder + dict_files['bioenergy_power']['file_name'], sheet_name = dict_files['bioenergy_power']['sheet_name'])\n",
    "\n",
    "# rename columns\n",
    "bioenergy_power.columns   = bioenergy_power.columns.str.lower().str.replace(\" \", \"_\")\n",
    "\n",
    "# report pre-cleaning\n",
    "print(f\"Bioenergy power data before cleaning dimensions: {bioenergy_power.shape}\")\n",
    "\n",
    "# keep only operating plants\n",
    "bioenergy_power = bioenergy_power[bioenergy_power.operating_status == \"operating\"].reset_index()\n",
    "print(f\"Number of operating plants: {bioenergy_power.shape[0]}\")\n",
    "\n",
    "# convert plant and unit name into one\n",
    "bioenergy_power['unit_name'].fillna(value = \"\", inplace = True)\n",
    "bioenergy_power['asset_name'] = bioenergy_power.project_name + \" \" + bioenergy_power.unit_name\n",
    "\n",
    "\n",
    "# keep only relevant columns - MAKE SURE IT IS IN THE ORDER OF FEATURE NAMES!!!\n",
    "feature_names = [\"asset_name\", \"owner\", \n",
    "                 \"capacity\", \"country\", \"region\", \"location\" , \"latitude\", \"longitude\", \n",
    "                 \"accuracy\", \"start_year\", \"status\", \"last_updated\"]\n",
    "\n",
    "cols_to_keep = ['asset_name', 'owner', \n",
    "                'capacity_(mw)', 'country', 'region', 'city', 'latitude', 'longitude', \n",
    "                'location_accuracy', 'unit_start_year', 'operating_status', 'date_last_researched']\n",
    "\n",
    "bioenergy_power = bioenergy_power[cols_to_keep]\n",
    "bioenergy_power.rename(columns = {old: new for old, new in list(zip(cols_to_keep, feature_names))}, inplace = True)\n",
    "\n",
    "# generate sector \n",
    "bioenergy_power['sector'] = \"bioenergy power plant\"\n",
    "\n",
    "# # look at the final set\n",
    "bioenergy_power.columns\n",
    "bioenergy_power"
   ]
  },
  {
   "cell_type": "markdown",
   "metadata": {},
   "source": [
    "# Coal terminal"
   ]
  },
  {
   "cell_type": "code",
   "execution_count": null,
   "metadata": {},
   "outputs": [],
   "source": [
    "# load data\n",
    "coal_terminals          = pd.read_excel(data_folder + dict_files['coal_terminals']['file_name'], sheet_name = dict_files['coal_terminals']['sheet_name'])\n",
    "\n",
    "# rename columns\n",
    "coal_terminals.columns   = coal_terminals.columns.str.lower().str.replace(\" \", \"_\")\n",
    "\n",
    "# report pre-cleaning\n",
    "print(f\"Coal terminal data before cleaning dimensions: {coal_terminals.shape}\")\n",
    "\n",
    "# keep only operating plants\n",
    "coal_terminals = coal_terminals[coal_terminals.status == \"Operating\"].reset_index()\n",
    "print(f\"Number of operating plants: {coal_terminals.shape[0]}\")\n",
    "\n",
    "# keep only relevant columns - MAKE SURE IT IS IN THE ORDER OF FEATURE NAMES!!!\n",
    "feature_names = [\"asset_name\", \"owner\", \n",
    "                 \"capacity\", \"country\", \"region\", \"location\" , \"latitude\", \"longitude\", \n",
    "                 \"accuracy\", \"start_year\", \"status\"]\n",
    "\n",
    "cols_to_keep = ['coal_terminal_name', 'owner', \n",
    "                'capacity_(mt)', 'country', 'region', 'location', 'latitude', 'longitude', \n",
    "                'accuracy', 'opening_year', 'status']\n",
    "\n",
    "coal_terminals = coal_terminals[cols_to_keep]\n",
    "coal_terminals.rename(columns = {old: new for old, new in list(zip(cols_to_keep, feature_names))}, inplace = True)\n",
    "\n",
    "# generate sector \n",
    "coal_terminals['sector'] = \"coal terminal plant\"\n",
    "\n",
    "# # look at the final set\n",
    "coal_terminals.columns\n",
    "coal_terminals"
   ]
  },
  {
   "cell_type": "markdown",
   "metadata": {},
   "source": [
    "# Coal mine\n"
   ]
  },
  {
   "cell_type": "code",
   "execution_count": null,
   "metadata": {},
   "outputs": [],
   "source": [
    "# load data\n",
    "coal_mine               = pd.read_excel(data_folder + dict_files['coal_mine']['file_name'], sheet_name = dict_files['coal_mine']['sheet_name'])\n",
    "\n",
    "# rename columns\n",
    "coal_mine.columns   = coal_mine.columns.str.lower().str.replace(\" \", \"_\")\n",
    "\n",
    "# report pre-cleaning\n",
    "print(f\"Coal mines data before cleaning dimensions: {coal_mine.shape}\")\n",
    "\n",
    "# keep only operating plants\n",
    "coal_mine = coal_mine[coal_mine.status == \"Operating\"].reset_index()\n",
    "print(f\"Number of operating plants: {coal_mine.shape[0]}\")\n",
    "\n",
    "# keep only relevant columns - MAKE SURE IT IS IN THE ORDER OF FEATURE NAMES!!!\n",
    "feature_names = [\"asset_name\", \"owner\", \"parent\", \n",
    "                 \"country\", \"region\", \"location\" , \"latitude\", \"longitude\", \n",
    "                 \"accuracy\", \"start_year\", \"status\"]\n",
    "\n",
    "cols_to_keep = ['mine_name', 'owners', 'parent_company',\n",
    "                'country', 'region', 'location', 'latitude', 'longitude', \n",
    "                'location_accuracy', 'opening_year', 'status']\n",
    "\n",
    "coal_mine = coal_mine[cols_to_keep]\n",
    "coal_mine.rename(columns = {old: new for old, new in list(zip(cols_to_keep, feature_names))}, inplace = True)\n",
    "\n",
    "# generate sector \n",
    "coal_mine['sector'] = \"coal mine\"\n",
    "\n",
    "# # look at the final set\n",
    "coal_mine.columns\n",
    "coal_mine"
   ]
  },
  {
   "cell_type": "markdown",
   "metadata": {},
   "source": [
    "# Combine all datasets and save as CSV"
   ]
  },
  {
   "cell_type": "code",
   "execution_count": null,
   "metadata": {},
   "outputs": [],
   "source": [
    "df = pd.DataFrame()\n",
    "i = 0\n",
    "\n",
    "for file in sectors:\n",
    "    df = pd.concat([df, globals()[file]], ignore_index=True)\n",
    "\n",
    "df.to_csv('data/cleaned/gem_data.csv', index=False, sep='\\t', encoding='utf-8')\n",
    "df"
   ]
  }
 ],
 "metadata": {
  "kernelspec": {
   "display_name": ".venv",
   "language": "python",
   "name": "python3"
  },
  "language_info": {
   "codemirror_mode": {
    "name": "ipython",
    "version": 3
   },
   "file_extension": ".py",
   "mimetype": "text/x-python",
   "name": "python",
   "nbconvert_exporter": "python",
   "pygments_lexer": "ipython3",
   "version": "3.11.3"
  }
 },
 "nbformat": 4,
 "nbformat_minor": 2
}
