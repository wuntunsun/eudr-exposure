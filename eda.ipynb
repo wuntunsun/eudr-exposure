{
 "cells": [
  {
   "cell_type": "markdown",
   "metadata": {},
   "source": [
    "# Set up and packages"
   ]
  },
  {
   "cell_type": "code",
   "execution_count": null,
   "metadata": {},
   "outputs": [],
   "source": [
    "import pandas as pd\n",
    "import numpy as np\n",
    "import matplotlib.pyplot as plt\n",
    "import seaborn as sns\n",
    "import missingno as msno\n",
    "import geopandas as gpd\n",
    "import re \n",
    "from matplotlib.lines import Line2D\n",
    "from matplotlib import font_manager\n",
    "import matplotlib\n",
    "import cartopy.crs as ccrs\n",
    "import cartopy.feature as cfeature\n",
    "\n",
    "from sklearn.preprocessing import LabelEncoder\n",
    "\n",
    "forest = '#284e13ff'\n",
    "font_spec = 'Courier New'\n",
    "xticks_font = font_manager.FontProperties(family='Courier New')"
   ]
  },
  {
   "cell_type": "markdown",
   "metadata": {},
   "source": [
    "# Load data"
   ]
  },
  {
   "cell_type": "code",
   "execution_count": null,
   "metadata": {},
   "outputs": [],
   "source": [
    "df = pd.read_csv(\"data/assets_for_deforestation.csv\", sep = \"\\t\")\n",
    "df.head()"
   ]
  },
  {
   "cell_type": "markdown",
   "metadata": {},
   "source": [
    "# Restrict dataset"
   ]
  },
  {
   "cell_type": "code",
   "execution_count": null,
   "metadata": {},
   "outputs": [],
   "source": [
    "df = df[df.latitude.between(-30, -10) & df.longitude.between(-60, -40)]"
   ]
  },
  {
   "cell_type": "markdown",
   "metadata": {},
   "source": [
    "# Check missings"
   ]
  },
  {
   "cell_type": "code",
   "execution_count": null,
   "metadata": {},
   "outputs": [],
   "source": [
    "df.isnull().sum() # no missings! "
   ]
  },
  {
   "cell_type": "markdown",
   "metadata": {},
   "source": [
    "# Encode sector"
   ]
  },
  {
   "cell_type": "code",
   "execution_count": null,
   "metadata": {},
   "outputs": [],
   "source": [
    "# split sector \n",
    "df[['sector_main', 'sector_sub']] = df.sector.str.split(\"/\", expand = True, n = 1)\n",
    "df.isnull().sum()"
   ]
  },
  {
   "cell_type": "code",
   "execution_count": null,
   "metadata": {},
   "outputs": [],
   "source": [
    "# check which sectors have missing subsectors\n",
    "df[df.sector_sub.isnull()].groupby('sector').sector.count()\n",
    "\n",
    "# check the share of missings within those sectors\n",
    "df[df.sector_main == 'steel'].sector_main.count()\n",
    "df[df.sector_main == 'bioenergy'].sector_main.count()\n",
    "    # they are _always_ missing --> impute a category that sector_sub == sector_main\n",
    "\n",
    "df['sector_sub'] = df['sector_sub'].fillna(df['sector_main'])\n",
    "\n",
    "# check that there are no missings\n",
    "assert df.isnull().sum().sum() == 0"
   ]
  },
  {
   "cell_type": "code",
   "execution_count": null,
   "metadata": {},
   "outputs": [],
   "source": [
    "# enumerate the sector labels\n",
    "\n",
    "# initiate\n",
    "label_encoder = LabelEncoder()\n",
    "\n",
    "# transform\n",
    "df['sector_main_num'] = label_encoder.fit_transform(df['sector_main'])\n",
    "df['sector_num'] = label_encoder.fit_transform(df['sector'])\n",
    "\n",
    "# glimpse at data\n",
    "df.head()"
   ]
  },
  {
   "cell_type": "markdown",
   "metadata": {},
   "source": [
    "# Sumstats"
   ]
  },
  {
   "cell_type": "code",
   "execution_count": null,
   "metadata": {},
   "outputs": [],
   "source": [
    "df.describe()"
   ]
  },
  {
   "cell_type": "code",
   "execution_count": null,
   "metadata": {},
   "outputs": [],
   "source": [
    "df.head()"
   ]
  },
  {
   "cell_type": "markdown",
   "metadata": {},
   "source": [
    "# Maps for presentation"
   ]
  },
  {
   "cell_type": "markdown",
   "metadata": {},
   "source": [
    "## Map of Brazil\n"
   ]
  },
  {
   "cell_type": "code",
   "execution_count": null,
   "metadata": {},
   "outputs": [],
   "source": [
    "# Create a map of Brazil\n",
    "fig = plt.figure(figsize=(5, 5))\n",
    "ax = plt.axes(projection=ccrs.PlateCarree())\n",
    "ax.set_extent([-70, -30, -40, 0])  # Define the extent of the map (lon_min, lon_max, lat_min, lat_max)\n",
    "\n",
    "# Plot assets\n",
    "ax.scatter(df['longitude'], df['latitude'], c=df['sector_main_num'], \n",
    "           marker='o', \n",
    "           s=5, \n",
    "           transform=ccrs.PlateCarree())\n",
    "\n",
    "# Add map features\n",
    "ax.coastlines()\n",
    "\n",
    "# Add country borders\n",
    "ax.add_feature(cfeature.BORDERS, linestyle='-', linewidth=1)\n",
    "\n",
    "# Add a square highlighting the right area\n",
    "ax.plot([-60, -40, -40, -60, -60], [-30, -30, -10, -10, -30],\n",
    "         color=forest, linewidth=1, marker='',\n",
    "         transform=ccrs.Geodetic(), #remove this line to get straight lines\n",
    "         )\n",
    "\n",
    "# Add title and labels\n",
    "plt.title('Assets of focus')\n",
    "plt.xlabel('Longitude')\n",
    "plt.ylabel('Latitude')\n",
    "\n",
    "# Show the plot\n",
    "plt.show()\n",
    "\n",
    "# save the plot\n",
    "fig.savefig('graphs/map_assets_of_interest.png', bbox_inches='tight')"
   ]
  },
  {
   "cell_type": "markdown",
   "metadata": {},
   "source": [
    "# Summary stats on a graph"
   ]
  },
  {
   "cell_type": "code",
   "execution_count": null,
   "metadata": {},
   "outputs": [],
   "source": [
    "\n",
    "top_sectors = df.groupby('sector_main').uid_gem.count().reset_index().sort_values('uid_gem')\n",
    "top_sectors\n",
    "\n",
    "fig = plt.figure(figsize=(5, 5))\n",
    "\n",
    "plt.barh(top_sectors.sector_main, top_sectors.uid_gem, color = forest)\n",
    "plt.title('Sectors by number of assets')\n",
    "plt.show()\n",
    "\n",
    "fig.savefig('graphs/hbar_sectors.png', bbox_inches='tight')"
   ]
  },
  {
   "cell_type": "code",
   "execution_count": null,
   "metadata": {},
   "outputs": [],
   "source": [
    "# normalize capacity within group\n",
    "\n",
    "def normalize_group(sector_main):\n",
    "    sector_main['capacity_norm'] = (sector_main['capacity_first'] - sector_main['capacity_first'].mean()) / sector_main['capacity_first'].std()\n",
    "    return sector_main\n",
    "\n",
    "# Apply the function to each group\n",
    "normalized_data = df.groupby('sector_main').apply(normalize_group).reset_index(drop = True)\n",
    "\n",
    "fig = plt.figure(figsize=(5, 5))\n",
    "sns.kdeplot(data = normalized_data, x = 'capacity_norm', hue = 'sector_main')\n",
    "plt.xlabel('capacity (normalized)')\n",
    "plt.ylabel('density')\n",
    "plt.title('Capacity (normalized), by sector')\n",
    "\n",
    "\n",
    "fig.savefig('graphs/kde_sectors.png', bbox_inches='tight')"
   ]
  }
 ],
 "metadata": {
  "kernelspec": {
   "display_name": ".venv",
   "language": "python",
   "name": "python3"
  },
  "language_info": {
   "codemirror_mode": {
    "name": "ipython",
    "version": 3
   },
   "file_extension": ".py",
   "mimetype": "text/x-python",
   "name": "python",
   "nbconvert_exporter": "python",
   "pygments_lexer": "ipython3",
   "version": "3.11.3"
  }
 },
 "nbformat": 4,
 "nbformat_minor": 2
}
