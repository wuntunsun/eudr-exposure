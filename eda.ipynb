{
 "cells": [
  {
   "cell_type": "markdown",
   "metadata": {},
   "source": [
    "# Set up and packages"
   ]
  },
  {
   "cell_type": "code",
   "execution_count": 2,
   "metadata": {},
   "outputs": [],
   "source": [
    "import pandas as pd\n",
    "import numpy as np\n",
    "import matplotlib.pyplot as plt\n",
    "import seaborn as sns\n",
    "import missingno as msno\n",
    "import geopandas as gpd\n",
    "import re \n",
    "\n",
    "from sklearn.preprocessing import LabelEncoder"
   ]
  },
  {
   "cell_type": "markdown",
   "metadata": {},
   "source": [
    "# Import data"
   ]
  },
  {
   "cell_type": "code",
   "execution_count": 7,
   "metadata": {},
   "outputs": [
    {
     "data": {
      "text/html": [
       "<div>\n",
       "<style scoped>\n",
       "    .dataframe tbody tr th:only-of-type {\n",
       "        vertical-align: middle;\n",
       "    }\n",
       "\n",
       "    .dataframe tbody tr th {\n",
       "        vertical-align: top;\n",
       "    }\n",
       "\n",
       "    .dataframe thead th {\n",
       "        text-align: right;\n",
       "    }\n",
       "</style>\n",
       "<table border=\"1\" class=\"dataframe\">\n",
       "  <thead>\n",
       "    <tr style=\"text-align: right;\">\n",
       "      <th></th>\n",
       "      <th>asset_id</th>\n",
       "      <th>asset_name</th>\n",
       "      <th>company_name</th>\n",
       "      <th>parent_name</th>\n",
       "      <th>country</th>\n",
       "      <th>sector</th>\n",
       "      <th>latitude</th>\n",
       "      <th>longitude</th>\n",
       "      <th>uid</th>\n",
       "    </tr>\n",
       "  </thead>\n",
       "  <tbody>\n",
       "    <tr>\n",
       "      <th>0</th>\n",
       "      <td>25494420</td>\n",
       "      <td>Patos-Marinza</td>\n",
       "      <td>Geo-Jade Petroleum</td>\n",
       "      <td>Geo-Jade Petroleum</td>\n",
       "      <td>ALB</td>\n",
       "      <td>oil-and-gas-production-and-transport</td>\n",
       "      <td>40.7705</td>\n",
       "      <td>19.6434</td>\n",
       "      <td>0</td>\n",
       "    </tr>\n",
       "    <tr>\n",
       "      <th>1</th>\n",
       "      <td>25494150</td>\n",
       "      <td>El Mangrullo</td>\n",
       "      <td>Pampa Energia</td>\n",
       "      <td>Pampa Energia</td>\n",
       "      <td>ARG</td>\n",
       "      <td>oil-and-gas-production-and-transport</td>\n",
       "      <td>-38.5468</td>\n",
       "      <td>-69.4876</td>\n",
       "      <td>1</td>\n",
       "    </tr>\n",
       "    <tr>\n",
       "      <th>2</th>\n",
       "      <td>25494152</td>\n",
       "      <td>El Porton</td>\n",
       "      <td>YPF</td>\n",
       "      <td>YPF</td>\n",
       "      <td>ARG</td>\n",
       "      <td>oil-and-gas-production-and-transport</td>\n",
       "      <td>-37.1222</td>\n",
       "      <td>-69.6575</td>\n",
       "      <td>2</td>\n",
       "    </tr>\n",
       "    <tr>\n",
       "      <th>3</th>\n",
       "      <td>25494302</td>\n",
       "      <td>LomaLata</td>\n",
       "      <td>YPF</td>\n",
       "      <td>YPF</td>\n",
       "      <td>ARG</td>\n",
       "      <td>oil-and-gas-production-and-transport</td>\n",
       "      <td>-38.4593</td>\n",
       "      <td>-68.7088</td>\n",
       "      <td>3</td>\n",
       "    </tr>\n",
       "    <tr>\n",
       "      <th>4</th>\n",
       "      <td>25494304</td>\n",
       "      <td>Los Perales</td>\n",
       "      <td>YPF</td>\n",
       "      <td>YPF</td>\n",
       "      <td>ARG</td>\n",
       "      <td>oil-and-gas-production-and-transport</td>\n",
       "      <td>-46.1556</td>\n",
       "      <td>-69.1997</td>\n",
       "      <td>4</td>\n",
       "    </tr>\n",
       "  </tbody>\n",
       "</table>\n",
       "</div>"
      ],
      "text/plain": [
       "   asset_id     asset_name        company_name         parent_name country  \\\n",
       "0  25494420  Patos-Marinza  Geo-Jade Petroleum  Geo-Jade Petroleum     ALB   \n",
       "1  25494150   El Mangrullo       Pampa Energia       Pampa Energia     ARG   \n",
       "2  25494152      El Porton                 YPF                 YPF     ARG   \n",
       "3  25494302       LomaLata                 YPF                 YPF     ARG   \n",
       "4  25494304    Los Perales                 YPF                 YPF     ARG   \n",
       "\n",
       "                                 sector  latitude  longitude  uid  \n",
       "0  oil-and-gas-production-and-transport   40.7705    19.6434    0  \n",
       "1  oil-and-gas-production-and-transport  -38.5468   -69.4876    1  \n",
       "2  oil-and-gas-production-and-transport  -37.1222   -69.6575    2  \n",
       "3  oil-and-gas-production-and-transport  -38.4593   -68.7088    3  \n",
       "4  oil-and-gas-production-and-transport  -46.1556   -69.1997    4  "
      ]
     },
     "execution_count": 7,
     "metadata": {},
     "output_type": "execute_result"
    }
   ],
   "source": [
    "df_ct = pd.read_csv(\"data/asset_level_open_source_climate_trace.csv\")\n",
    "df_ct\n",
    "df_ct.asset_id.nunique()\n",
    "df_ct.head()"
   ]
  },
  {
   "cell_type": "code",
   "execution_count": null,
   "metadata": {},
   "outputs": [],
   "source": [
    "# Import clean data\n",
    "\n",
    "df = pd.read_csv(\"data/cleaned/gem_data.csv\", delimiter= \"\\t\")\n",
    "df.columns"
   ]
  },
  {
   "cell_type": "markdown",
   "metadata": {},
   "source": [
    "# Deal with missings\n",
    "We have many missing values for different features. There are a few restrictions we implement on our dataset: \n",
    "- remove assets with missing latitude and longitude\n",
    "- remove assets with missing owner??\n",
    "- remove assets with missing start year??"
   ]
  },
  {
   "cell_type": "code",
   "execution_count": null,
   "metadata": {},
   "outputs": [],
   "source": [
    "# Check missing\n",
    "msno.bar(df)"
   ]
  },
  {
   "cell_type": "code",
   "execution_count": null,
   "metadata": {},
   "outputs": [],
   "source": [
    "missings = pd.DataFrame([df.isnull().sum(), df.isnull().mean()]).transpose().rename(columns = {0: \"count\", 1: \"share\"})\n",
    "missings"
   ]
  },
  {
   "cell_type": "code",
   "execution_count": null,
   "metadata": {},
   "outputs": [],
   "source": [
    "# drop useless variables\n",
    "df.drop(['construction_start_year', 'proposal_year', 'construction_year','discovery_year'], axis = 1).reset_index()\n",
    "\n",
    "# drop observations which have missing latitude, longitude, owner or start year\n",
    "crucial_vars = [['latitude', 'longitude'], ['owner'], ['start_year']]\n",
    "print(f\"N at the start: {len(df)}\")\n",
    "\n",
    "for var in crucial_vars: \n",
    "    df = df.dropna(subset=var)\n",
    "    print(f\"N after dropping {var}: {len(df)}\")\n",
    "\n",
    "df.reset_index()"
   ]
  },
  {
   "cell_type": "markdown",
   "metadata": {},
   "source": [
    "# Deal with owner information"
   ]
  },
  {
   "cell_type": "code",
   "execution_count": null,
   "metadata": {},
   "outputs": [],
   "source": [
    "len(df.owner.unique())"
   ]
  },
  {
   "cell_type": "code",
   "execution_count": null,
   "metadata": {},
   "outputs": [],
   "source": [
    "df[df.owner.str.contains(\"%\")]\n",
    "splits = df.owner.str.split(', ', expand=True)\n",
    "splits.rename(columns = {x: \"owner_\" + str(x) for x in list(range(8))}, inplace= True)\n",
    "\n",
    "df_owner = pd.concat([df, splits], axis = 1)\n",
    "df_owner['main_owner'] = df_owner.owner_0.str.replace(\"[\\[\\(]\\d*[.]\\d*[%][\\]\\)]\", '', regex=True).str.strip()\n",
    "df_owner"
   ]
  },
  {
   "cell_type": "markdown",
   "metadata": {},
   "source": [
    "# Encode sector"
   ]
  },
  {
   "cell_type": "code",
   "execution_count": null,
   "metadata": {},
   "outputs": [],
   "source": [
    "# enumerate the sector labels\n",
    "\n",
    "label_encoder = LabelEncoder()\n",
    "\n",
    "df['sector_num'] = label_encoder.fit_transform(df['sector'])\n",
    "df.head(2)"
   ]
  },
  {
   "cell_type": "code",
   "execution_count": null,
   "metadata": {},
   "outputs": [],
   "source": [
    "df_geo['sector_num'] = df.sector_num.astype(np.int32)\n",
    "type(df_geo.sector_num[0])"
   ]
  },
  {
   "cell_type": "code",
   "execution_count": null,
   "metadata": {},
   "outputs": [],
   "source": [
    "# World basemap for context\n",
    "world = gpd.read_file(gpd.datasets.get_path('naturalearth_lowres'))\n",
    "\n",
    "# Create a GeoDataFrame with the latitude and longitude data\n",
    "df_geo = gpd.GeoDataFrame(df, geometry=gpd.points_from_xy(df['longitude'], df['latitude']))\n",
    "\n",
    "# Plot the world basemap\n",
    "ax = world.plot(figsize=(10, 6), color='lightgray')\n",
    "\n",
    "# Plot your data on top with different colors based on the 'sector_num' column\n",
    "scatter = df_geo.plot(ax=ax, c=df_geo['sector_num'], marker='o', markersize=1, legend=True)\n",
    "\n",
    "# prepare legend\n",
    "legend_df = df_geo[['sector_num', 'sector']].drop_duplicates()\n",
    "\n",
    "# create a custom legend using the legend DataFrame\n",
    "legend_labels = {label: str(sector) for label, sector in zip(legend_df['sector_num'], legend_df['sector'])}\n",
    "scatter.legend(title='Sector', labels=legend_labels, loc='upper left')\n",
    "\n",
    "# Customize the plot\n",
    "plt.title('Assets by sector')\n",
    "plt.xlabel('Longitude')\n",
    "plt.ylabel('Latitude')\n",
    "\n",
    "# Show the plot\n",
    "plt.show()\n",
    "legend_df"
   ]
  },
  {
   "cell_type": "code",
   "execution_count": null,
   "metadata": {},
   "outputs": [],
   "source": [
    "\n",
    "top_owners = df_owner.groupby('main_owner').asset_name.count().reset_index().sort_values('asset_name', ascending = False).head(20).sort_values('asset_name')\n",
    "\n",
    "plt.barh(top_owners.main_owner, top_owners.asset_name)\n",
    "plt.xticks(rotation=90)\n",
    "plt.title('Top 20 (main) owners by number of assets')\n",
    "plt.show()\n",
    "\n",
    "df_owner.groupby('main_owner').asset_name.count().describe()"
   ]
  },
  {
   "cell_type": "code",
   "execution_count": null,
   "metadata": {},
   "outputs": [],
   "source": [
    "\n",
    "top_sectors = df.groupby('sector').asset_name.count().reset_index().sort_values('asset_name')\n",
    "top_sectors\n",
    "\n",
    "plt.barh(top_sectors.sector, top_sectors.asset_name)\n",
    "plt.xticks(rotation=90)\n",
    "plt.title('Sectors by number of assets')\n",
    "plt.show()\n",
    "\n",
    "df.sector.nunique()"
   ]
  },
  {
   "cell_type": "code",
   "execution_count": null,
   "metadata": {},
   "outputs": [],
   "source": [
    "top_countries = df.groupby(['country']).asset_name.count().reset_index().sort_values('asset_name').tail(20)\n",
    "top_countries\n",
    "\n",
    "plt.barh(top_countries.country, top_countries.asset_name)\n",
    "plt.xticks(rotation=90)\n",
    "plt.title('Top 20 countries by number of assets')\n",
    "plt.show()"
   ]
  },
  {
   "cell_type": "markdown",
   "metadata": {},
   "source": [
    "# Progress summary: \n",
    "\n",
    "GEM data: \n",
    "- downloaded asset data from GEM (Global Energy Monitor) about 12 types of energy-related assets\n",
    "- cleaned each separate dataset (due to idiosyncracies between then sets, had to do each one separately)\n",
    "- for each dataset: kept asset name, sector, owner(s), geographic location, start date, and if available included capacity \n",
    "\n",
    "EDA: \n",
    "- we focus only on assets where location, owner and start date are known\n",
    "- in this dataset, we have about 45k assets, attributed to more than 12k owners\n",
    "- majority of owners (more than 75%) own only 1-2 companies\n",
    "- assets are located acround the globe, with most of them present in China, US, India, Brazil, Spain and Germany\n",
    "- the sector wind power has the highest number of associated assets (~10k), followed by solar (~7k), and coal power plant (~6k)\n",
    "\n",
    "The next steps are: \n",
    "- clean in a similar fashion the mining data from the Climate Trace source\n",
    "- overlay asset information with the deforestation data using latitutde/longitude info\n",
    "- consider how to feature engineer informaiton about onwers in any ML exercise on predicting deforestation"
   ]
  },
  {
   "cell_type": "code",
   "execution_count": 12,
   "metadata": {},
   "outputs": [
    {
     "name": "stdout",
     "output_type": "stream",
     "text": [
      "14\n"
     ]
    }
   ],
   "source": [
    "trial = {'key1': [14, 44], 'key2': [12, 84]}\n",
    "\n",
    "print(trial['key1'][0])"
   ]
  }
 ],
 "metadata": {
  "kernelspec": {
   "display_name": ".venv",
   "language": "python",
   "name": "python3"
  },
  "language_info": {
   "codemirror_mode": {
    "name": "ipython",
    "version": 3
   },
   "file_extension": ".py",
   "mimetype": "text/x-python",
   "name": "python",
   "nbconvert_exporter": "python",
   "pygments_lexer": "ipython3",
   "version": "3.11.3"
  }
 },
 "nbformat": 4,
 "nbformat_minor": 2
}
