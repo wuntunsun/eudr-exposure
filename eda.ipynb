{
 "cells": [
  {
   "cell_type": "markdown",
   "metadata": {},
   "source": [
    "# Set up and packages"
   ]
  },
  {
   "cell_type": "code",
   "execution_count": 2,
   "metadata": {},
   "outputs": [],
   "source": [
    "import pandas as pd\n",
    "import numpy as np\n",
    "import matplotlib.pyplot as plt\n",
    "import seaborn as sns\n",
    "import missingno as msno\n",
    "import geopandas as gpd\n",
    "import re \n",
    "from matplotlib.lines import Line2D\n",
    "import cartopy.crs as ccrs\n",
    "import cartopy.feature as cfeature\n",
    "\n",
    "from sklearn.preprocessing import LabelEncoder"
   ]
  },
  {
   "cell_type": "markdown",
   "metadata": {},
   "source": [
    "# Start over"
   ]
  },
  {
   "cell_type": "markdown",
   "metadata": {},
   "source": [
    "# Import data"
   ]
  },
  {
   "cell_type": "code",
   "execution_count": null,
   "metadata": {},
   "outputs": [],
   "source": [
    "df = pd.read_csv(\"data/combined_asset_data.csv\")\n",
    "\n",
    "\n",
    "# for_deforestation.groupby(['latitude', 'longitude', 'uid_gem'])\n",
    "# print(len(for_deforestation))\n",
    "# print(for_deforestation.uid_gem.nunique())\n",
    "\n"
   ]
  },
  {
   "cell_type": "markdown",
   "metadata": {},
   "source": [
    "# Deal with missings\n",
    "We have many missing values for different features. There are a few restrictions we implement on our dataset: \n",
    "- remove assets with missing latitude and longitude\n",
    "- remove assets with missing owner??\n",
    "- remove assets with missing start year??"
   ]
  },
  {
   "cell_type": "markdown",
   "metadata": {},
   "source": [
    "# Check missing"
   ]
  },
  {
   "cell_type": "code",
   "execution_count": null,
   "metadata": {},
   "outputs": [],
   "source": [
    "missings = pd.DataFrame([df.isnull().sum(), df.isnull().mean()]).transpose().rename(columns = {0: \"count\", 1: \"share\"})\n",
    "missings"
   ]
  },
  {
   "cell_type": "markdown",
   "metadata": {},
   "source": [
    "# Deal with owner information"
   ]
  },
  {
   "cell_type": "code",
   "execution_count": null,
   "metadata": {},
   "outputs": [],
   "source": [
    "sample = df.sample(n = 30, random_state=62442)\n",
    "sample"
   ]
  },
  {
   "cell_type": "code",
   "execution_count": null,
   "metadata": {},
   "outputs": [],
   "source": [
    "len(df.owner_name.unique())"
   ]
  },
  {
   "cell_type": "code",
   "execution_count": null,
   "metadata": {},
   "outputs": [],
   "source": [
    "# turn everything into uppercase\n",
    "df['owner_name'] = df.owner_name.str.upper()\n",
    "df.head()"
   ]
  },
  {
   "cell_type": "code",
   "execution_count": null,
   "metadata": {},
   "outputs": [],
   "source": [
    "df_owner = df.groupby('owner_name').uid.count().sort_values(ascending=False).head(10).reset_index()\n",
    "companies = list(df_owner.owner_name) \n",
    "assets = list(df_owner.uid)\n",
    "\n",
    "for i, (company, asset) in enumerate(zip(companies, assets)):\n",
    "    plt.scatter(i, 0, s=asset*10, alpha=0.5, label=f'{company}\\nAssets: {asset}', facecolor='green', edgecolor='black')\n",
    "\n",
    "# Adding text labels for each company and asset count\n",
    "# plt.annotate('\\n'.join(companies), xy=(range(len(companies)), [0]*len(companies)), ha='center', va='center', family='monospace')\n",
    "# plt.annotate('\\n'.join([str(a) for a in assets]), xy=(range(len(companies)), [0]*len(companies)), ha='center', va='center', family='monospace')\n",
    "\n",
    "# Remove axes\n",
    "plt.axis('off')\n",
    "\n",
    "# # Show plot\n",
    "# plt.legend(loc='upper left', bbox_to_anchor=(1, 1))\n",
    "# plt.title('Assets by Company', family='monospace')\n",
    "# plt.tight_layout()\n",
    "# plt.show()\n",
    "\n",
    "# # df_owner[0]\n",
    "# df_owner"
   ]
  },
  {
   "cell_type": "markdown",
   "metadata": {},
   "source": [
    "# Encode sector"
   ]
  },
  {
   "cell_type": "code",
   "execution_count": null,
   "metadata": {},
   "outputs": [],
   "source": [
    "# split sector \n",
    "df[['sector_main', 'sector_sub']] = df.sector.str.split(\"/\", expand = True, n = 1)\n",
    "df.isnull().sum()"
   ]
  },
  {
   "cell_type": "code",
   "execution_count": null,
   "metadata": {},
   "outputs": [],
   "source": [
    "# enumerate the sector labels\n",
    "\n",
    "label_encoder = LabelEncoder()\n",
    "\n",
    "df['sector_main_num'] = label_encoder.fit_transform(df['sector_main'])\n",
    "df['sector_num'] = label_encoder.fit_transform(df['sector'])\n",
    "# type(df['sector_num'][0])"
   ]
  },
  {
   "cell_type": "markdown",
   "metadata": {},
   "source": [
    "# Maps for presentation"
   ]
  },
  {
   "cell_type": "markdown",
   "metadata": {},
   "source": [
    "## World map"
   ]
  },
  {
   "cell_type": "code",
   "execution_count": null,
   "metadata": {},
   "outputs": [],
   "source": [
    "# World basemap for context\n",
    "world = gpd.read_file(gpd.datasets.get_path('naturalearth_lowres'))\n",
    "\n",
    "# Create a GeoDataFrame with the latitude and longitude data\n",
    "df_geo = gpd.GeoDataFrame(df, geometry=gpd.points_from_xy(df['longitude'], df['latitude']))\n",
    "\n",
    "# Plot the world basemap\n",
    "ax = world.plot(figsize=(10, 6), color='lightgray')\n",
    "\n",
    "# Plot your data on top with different colors based on the 'sector_num' column\n",
    "scatter = df_geo.plot(ax=ax, c=df_geo['sector_main_num'], marker='o', markersize=1, legend=True)\n",
    "\n",
    "# prepare legend\n",
    "legend_df = df_geo[['sector_main_num', 'sector_main']].drop_duplicates()\n",
    "\n",
    "# Customize the plot\n",
    "plt.title('Assets by sector') \n",
    "plt.xlabel('Longitude')\n",
    "plt.ylabel('Latitude')\n",
    "\n",
    "# Show the plot\n",
    "plt.show()"
   ]
  },
  {
   "cell_type": "markdown",
   "metadata": {},
   "source": [
    "## Map of Brazil\n"
   ]
  },
  {
   "cell_type": "code",
   "execution_count": null,
   "metadata": {},
   "outputs": [],
   "source": [
    "# Filter assets in Brazil\n",
    "brazil_assets = df[df['country'] == 'Brazil']\n",
    "\n",
    "# Create a map of Brazil\n",
    "plt.figure(figsize=(10, 10))\n",
    "ax = plt.axes(projection=ccrs.PlateCarree())\n",
    "ax.set_extent([-75, -30, -35, 5])  # Define the extent of the map (lon_min, lon_max, lat_min, lat_max)\n",
    "\n",
    "# Plot assets\n",
    "ax.scatter(brazil_assets['longitude'], brazil_assets['latitude'], c=brazil_assets['sector_main_num'], \n",
    "           marker='o', \n",
    "           s=5, \n",
    "           transform=ccrs.PlateCarree())\n",
    "\n",
    "# Add map features\n",
    "ax.coastlines()\n",
    "\n",
    "# Add country borders\n",
    "ax.add_feature(cfeature.BORDERS, linestyle='-', linewidth=1)\n",
    "\n",
    "\n",
    "# Add title and labels\n",
    "plt.title('Assets in Brazil')\n",
    "plt.xlabel('Longitude')\n",
    "plt.ylabel('Latitude')\n",
    "\n",
    "# Show the plot\n",
    "plt.show()"
   ]
  },
  {
   "cell_type": "code",
   "execution_count": null,
   "metadata": {},
   "outputs": [],
   "source": [
    "\n",
    "top_owners = df_owner.groupby('main_owner').asset_name.count().reset_index().sort_values('asset_name', ascending = False).head(20).sort_values('asset_name')\n",
    "\n",
    "plt.barh(top_owners.main_owner, top_owners.asset_name)\n",
    "plt.xticks(rotation=90)\n",
    "plt.title('Top 20 (main) owners by number of assets')\n",
    "plt.show()\n",
    "\n",
    "df_owner.groupby('main_owner').asset_name.count().describe()"
   ]
  },
  {
   "cell_type": "code",
   "execution_count": null,
   "metadata": {},
   "outputs": [],
   "source": [
    "\n",
    "top_sectors = df.groupby('sector').asset_name.count().reset_index().sort_values('asset_name')\n",
    "top_sectors\n",
    "\n",
    "plt.barh(top_sectors.sector, top_sectors.asset_name)\n",
    "plt.xticks(rotation=90)\n",
    "plt.title('Sectors by number of assets')\n",
    "plt.show()\n",
    "\n",
    "df.sector.nunique()"
   ]
  },
  {
   "cell_type": "code",
   "execution_count": null,
   "metadata": {},
   "outputs": [],
   "source": [
    "top_countries = df.groupby(['country']).asset_name.count().reset_index().sort_values('asset_name').tail(20)\n",
    "top_countries\n",
    "\n",
    "plt.barh(top_countries.country, top_countries.asset_name)\n",
    "plt.xticks(rotation=90)\n",
    "plt.title('Top 20 countries by number of assets')\n",
    "plt.show()"
   ]
  },
  {
   "cell_type": "markdown",
   "metadata": {},
   "source": [
    "# Progress summary: \n",
    "\n",
    "GEM data: \n",
    "- downloaded asset data from GEM (Global Energy Monitor) about 12 types of energy-related assets\n",
    "- cleaned each separate dataset (due to idiosyncracies between then sets, had to do each one separately)\n",
    "- for each dataset: kept asset name, sector, owner(s), geographic location, start date, and if available included capacity \n",
    "\n",
    "EDA: \n",
    "- we focus only on assets where location, owner and start date are known\n",
    "- in this dataset, we have about 45k assets, attributed to more than 12k owners\n",
    "- majority of owners (more than 75%) own only 1-2 companies\n",
    "- assets are located acround the globe, with most of them present in China, US, India, Brazil, Spain and Germany\n",
    "- the sector wind power has the highest number of associated assets (~10k), followed by solar (~7k), and coal power plant (~6k)\n",
    "\n",
    "The next steps are: \n",
    "- clean in a similar fashion the mining data from the Climate Trace source\n",
    "- overlay asset information with the deforestation data using latitutde/longitude info\n",
    "- consider how to feature engineer informaiton about onwers in any ML exercise on predicting deforestation"
   ]
  },
  {
   "cell_type": "code",
   "execution_count": null,
   "metadata": {},
   "outputs": [],
   "source": [
    "trial = {'key1': [14, 44], 'key2': [12, 84]}\n",
    "\n",
    "print(trial['key1'][0])"
   ]
  }
 ],
 "metadata": {
  "kernelspec": {
   "display_name": ".venv",
   "language": "python",
   "name": "python3"
  },
  "language_info": {
   "codemirror_mode": {
    "name": "ipython",
    "version": 3
   },
   "file_extension": ".py",
   "mimetype": "text/x-python",
   "name": "python",
   "nbconvert_exporter": "python",
   "pygments_lexer": "ipython3",
   "version": "3.11.3"
  }
 },
 "nbformat": 4,
 "nbformat_minor": 2
}
