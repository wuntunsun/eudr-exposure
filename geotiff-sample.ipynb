{
 "cells": [
  {
   "cell_type": "code",
   "execution_count": null,
   "metadata": {},
   "outputs": [],
   "source": [
    "import pandas as pd\n",
    "#import geopandas as gpd\n",
    "import rasterio as rio\n",
    "#import rioxarray as rx\n",
    "import matplotlib.pyplot as plt\n",
    "import numpy as np\n"
   ]
  },
  {
   "cell_type": "code",
   "execution_count": null,
   "metadata": {},
   "outputs": [],
   "source": [
    "from rasterio.plot import show\n",
    "from rasterio.warp import transform\n",
    "\n",
    "xs = np.array([3327493.433, 16177493.43])\n",
    "ys = np.array([7389201.61, -580798.392])\n",
    "\n",
    "with rasterio.open(\"data/TCL_DD_2022_20230407.tif\") as src:\n",
    "\n",
    "    pt = src.xy(0, 0) # latitude is N/S AKA y, \n",
    "\n",
    "    print(f'Number of bands: {src.count}')\n",
    "    print(f'Image resolution: ({src.height}, {src.width})')\n",
    "    print(f'Coordinate Reference System: ({src.crs}')\n",
    "\n",
    "    fig, ax = plt.subplots()\n",
    "\n",
    "    extent = [src.bounds[0], src.bounds[2], src.bounds[1], src.bounds[3]]\n",
    "    ax = show(src, extent=extent, ax=ax, cmap=\"pink\")\n",
    "\n",
    "    # https://epsg.io/4326\n",
    "    # WGS 84 -- WGS84 - World Geodetic System 1984, used in GPS\n",
    "\n",
    "    # 18.18517 55.56466\n",
    "    # 29.766234, 69.421527 (latitude, longitude) pakistan\n",
    "    # -15.28575, -55.94627 (latitude, longitude) brazil\n",
    "    lat = -15.28575\n",
    "    long = -55.94627\n",
    "\n",
    "    to_crs = src.crs\n",
    "    from_crs = rio.crs.CRS.from_epsg(4326)\n",
    "    x, y = transform(from_crs, to_crs, [long], [lat])\n",
    "\n",
    "    # expect 1 - 5... but mention is made of Zero or Minor Loss\n",
    "    # 1. CommodityDriven.Deforestation\n",
    "    # 2. Shifting.Agriculture\n",
    "    # 3. TreeFarm.ForestryOther\n",
    "    # 4. Wildfire\n",
    "    # 5. Urban\n",
    "\n",
    "    for val in src.sample([(x, y)]): \n",
    "        print(val)\n",
    "    "
   ]
  }
 ],
 "metadata": {
  "kernelspec": {
   "display_name": ".venv",
   "language": "python",
   "name": "python3"
  },
  "language_info": {
   "codemirror_mode": {
    "name": "ipython",
    "version": 3
   },
   "file_extension": ".py",
   "mimetype": "text/x-python",
   "name": "python",
   "nbconvert_exporter": "python",
   "pygments_lexer": "ipython3",
   "version": "3.11.3"
  }
 },
 "nbformat": 4,
 "nbformat_minor": 2
}
