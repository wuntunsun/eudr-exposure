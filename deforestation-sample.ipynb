{
 "cells": [
  {
   "cell_type": "code",
   "execution_count": 1,
   "metadata": {},
   "outputs": [],
   "source": [
    "import pandas as pd\n",
    "#import geopandas as gpd\n",
    "import requests\n",
    "import rasterio as rio\n",
    "from rasterio.plot import show\n",
    "from rasterio.warp import transform\n",
    "from rasterio.transform import (xy, rowcol)\n",
    "from rasterio.windows import Window\n",
    "import itertools as it\n",
    "import rioxarray as rx\n",
    "import xarray as xr\n",
    "import matplotlib.pyplot as plt\n",
    "import numpy as np\n",
    "from pathlib import Path\n",
    "import time\n",
    "import timeit\n",
    "import os.path\n",
    "from string import Template\n",
    "\n",
    "from typing import Tuple, Optional, List\n",
    "\n",
    "from leaf.deforestation import (\n",
    "    cache_earthenginepartners_hansen,\n",
    "    earthenginepartners_hansen)\n"
   ]
  },
  {
   "cell_type": "code",
   "execution_count": 18,
   "metadata": {},
   "outputs": [
    {
     "data": {
      "text/plain": [
       "country\n",
       "China             10314\n",
       "United States      1711\n",
       "Germany            1673\n",
       "India              1325\n",
       "France             1007\n",
       "Spain               865\n",
       "United Kingdom      572\n",
       "Japan               556\n",
       "Brazil              527\n",
       "Türkiye             343\n",
       "Name: count, dtype: int64"
      ]
     },
     "execution_count": 18,
     "metadata": {},
     "output_type": "execute_result"
    }
   ],
   "source": [
    "df = pd.read_csv('data/assets_for_deforestation.csv', sep='\\t')\n",
    "df.country.value_counts().head(10)\n",
    "\n",
    "# 'CN': ('China', (73.6753792663, 18.197700914, 135.026311477, 53.4588044297)),\n",
    "# 'US': ('United States', (-171.791110603, 18.91619, -66.96466, 71.3577635769)),\n",
    "# 'BR': ('Brazil', (-73.9872354804, -33.7683777809, -34.7299934555, 5.24448639569)),\n",
    "\n"
   ]
  },
  {
   "cell_type": "code",
   "execution_count": null,
   "metadata": {},
   "outputs": [],
   "source": [
    "df[df.treecover2000 > 0]"
   ]
  },
  {
   "cell_type": "code",
   "execution_count": null,
   "metadata": {},
   "outputs": [],
   "source": [
    "df[df['2014'] != 0].head()"
   ]
  },
  {
   "cell_type": "code",
   "execution_count": 2,
   "metadata": {},
   "outputs": [
    {
     "name": "stderr",
     "output_type": "stream",
     "text": [
      "to_assets_with_lossyear for latitudes: range(-33, 6, 10) and longitudes: range(-73, -35, -10): 0it [00:00, ?it/s]\n",
      "to_assets_with_treecover2000 for latitudes: {latitudes} and longitudes: {longitudes}: 0it [00:00, ?it/s]\n",
      "to_assets_with_lossyear for latitudes: range(18, 54, 10) and longitudes: range(73, 136, 10): 100%|██████████| 28/28 [01:18<00:00,  2.79s/it]\n",
      "to_assets_with_treecover2000 for latitudes: {latitudes} and longitudes: {longitudes}: 100%|██████████| 28/28 [00:39<00:00,  1.41s/it]\n",
      "to_assets_with_lossyear for latitudes: range(18, 72, 10) and longitudes: range(-171, -67, 10): 100%|██████████| 66/66 [01:43<00:00,  1.56s/it]\n",
      "to_assets_with_treecover2000 for latitudes: {latitudes} and longitudes: {longitudes}: 100%|██████████| 66/66 [01:07<00:00,  1.03s/it]\n"
     ]
    }
   ],
   "source": [
    "# spanning the range 180W-180E and 80N-60S\n",
    "# 80N, 70N, ... 10N, 00N, 10S, 20S, ... 50S - 180W\n",
    "# 80N - 180W, 170W, ... 010W, 000E, 010E.... 170E\n",
    "\n",
    "# https://worldpopulationreview.com/country-rankings/deforestation-rates-by-country\n",
    "# https://gist.github.com/graydon/11198540\n",
    "# 'BR': ('Brazil', (-73.9872354804, -33.7683777809, -34.7299934555, 5.24448639569)),\n",
    "# 'ID': ('Indonesia', (95.2930261576, -10.3599874813, 141.03385176, 5.47982086834)),\n",
    "# 'CD': ('Congo (Kinshasa)', (12.1823368669, -13.2572266578, 31.1741492042, 5.25608775474)),\n",
    "# 'CG': ('Congo (Brazzaville)', (11.0937728207, -5.03798674888, 18.4530652198, 3.72819651938)),\n",
    "# 'AO': ('Angola', (11.6400960629, -17.9306364885, 24.0799052263, -4.43802336998)),\n",
    "# Tazmania\n",
    "# 'MM': ('Myanmar', (92.3032344909, 9.93295990645, 101.180005324, 28.335945136)),\n",
    "# 'PY': ('Paraguay', (-62.6850571357, -27.5484990374, -54.2929595608, -19.3427466773)),\n",
    "# 'BO': ('Bolivia', (-69.5904237535, -22.8729187965, -57.4983711412, -9.76198780685)),\n",
    "# 'MZ': ('Mozambique', (30.1794812355, -26.7421916643, 40.7754752948, -10.3170960425)),\n",
    "# 'AR': ('Argentina', (-73.4154357571, -55.25, -53.628348965, -21.8323104794)),\n",
    "\n",
    "# According to how many assets we have...\n",
    "\n",
    "# long lat bottom left, long lat top right\n",
    "\n",
    "# 'BR': ('Brazil', (-73.9872354804, -33.7683777809, -34.7299934555, 5.24448639569)),\n",
    "earthenginepartners_hansen('data/assets_for_deforestation.csv', '\\t', \n",
    "                           range(-33, 6, 10), range(-73, -35, -10), \n",
    "                           'data/assets_with_deforestation.csv', verbose=False)\n",
    "\n",
    "# 'CN': ('China', (73.6753792663, 18.197700914, 135.026311477, 53.4588044297)),\n",
    "earthenginepartners_hansen('data/assets_with_deforestation.csv', '\\t', \n",
    "                           range(18, 54, 10), range(73, 136, 10), \n",
    "                           'data/assets_with_deforestation.csv', verbose=False)\n",
    "\n",
    "# 'US': ('United States', (-171.791110603, 18.91619, -66.96466, 71.3577635769)),\n",
    "earthenginepartners_hansen('data/assets_with_deforestation.csv', '\\t', \n",
    "                           range(18, 72, 10), range(-171, -67, 10), \n",
    "                           'data/assets_with_deforestation.csv', verbose=False)\n",
    "\n"
   ]
  },
  {
   "cell_type": "code",
   "execution_count": 3,
   "metadata": {},
   "outputs": [
    {
     "data": {
      "text/plain": [
       "country\n",
       "China             10314\n",
       "United States      1711\n",
       "Germany            1673\n",
       "India              1325\n",
       "France             1007\n",
       "Spain               865\n",
       "United Kingdom      572\n",
       "Japan               556\n",
       "Brazil              527\n",
       "Türkiye             343\n",
       "Name: count, dtype: int64"
      ]
     },
     "execution_count": 3,
     "metadata": {},
     "output_type": "execute_result"
    }
   ],
   "source": [
    "df = pd.read_csv('data/assets_with_deforestation.csv', sep='\\t')\n",
    "df.country.value_counts().head(10)"
   ]
  }
 ],
 "metadata": {
  "kernelspec": {
   "display_name": ".venv",
   "language": "python",
   "name": "python3"
  },
  "language_info": {
   "codemirror_mode": {
    "name": "ipython",
    "version": 3
   },
   "file_extension": ".py",
   "mimetype": "text/x-python",
   "name": "python",
   "nbconvert_exporter": "python",
   "pygments_lexer": "ipython3",
   "version": "3.11.3"
  }
 },
 "nbformat": 4,
 "nbformat_minor": 2
}
