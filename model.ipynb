{
 "cells": [
  {
   "cell_type": "code",
   "execution_count": null,
   "metadata": {},
   "outputs": [],
   "source": [
    "# preamble\n",
    "import pandas as pd\n",
    "import math\n",
    "import numpy as np\n"
   ]
  },
  {
   "cell_type": "markdown",
   "metadata": {},
   "source": [
    "# Load data\n"
   ]
  },
  {
   "cell_type": "code",
   "execution_count": null,
   "metadata": {},
   "outputs": [],
   "source": [
    "df = pd.read_csv(\"data/assets_with_deforestation.csv\", sep = \"\\t\")\n",
    "df.head()\n",
    "\n",
    "rename_aux = {str(x): \"deforestation_\"+str(x) for x in range(2000, 2023)}\n",
    "\n",
    "df.rename(columns = rename_aux, inplace = True)\n",
    "\n",
    "i_cols = [col for col in df.columns if not col.startswith('deforestation_')]\n",
    "\n",
    "df = pd.wide_to_long(df, \"deforestation_\", i = i_cols, j = 'year').reset_index()\n",
    "df['start_year_first'] = df.start_year_first.astype(int)\n",
    "df.head(30) \n",
    "df.uid_gem.nunique()"
   ]
  },
  {
   "cell_type": "code",
   "execution_count": null,
   "metadata": {},
   "outputs": [],
   "source": [
    "# df['y1'] = df.apply(lambda x: 1 if x.year in range(x.start_year_first - 0, x.start_year_first + 1) else 0, axis = 1)\n",
    "# df['y3'] = df.apply(lambda x: 1 if x.year in range(x.start_year_first - 1, x.start_year_first + 2) else 0, axis = 1)\n",
    "# df['y5'] = df.apply(lambda x: 1 if x.year in range(x.start_year_first - 2, x.start_year_first + 3) else 0, axis = 1)\n",
    "# df['y7'] = df.apply(lambda x: 1 if x.year in range(x.start_year_first - 3, x.start_year_first + 4) else 0, axis = 1)\n",
    "\n",
    "def year_var(n):\n",
    "  return lambda x: 1 if x.year in range(x.start_year_first - math.floor(n/2), x.start_year_first + math.ceil(n/2)) else 0\n",
    "\n",
    "for i in list(range(1, 10, 2)): \n",
    "  var = 'y' + str(i)\n",
    "  df[var] = df.apply(year_var(i), axis = 1)"
   ]
  },
  {
   "cell_type": "code",
   "execution_count": null,
   "metadata": {},
   "outputs": [],
   "source": [
    "df.head(30)"
   ]
  },
  {
   "cell_type": "code",
   "execution_count": null,
   "metadata": {},
   "outputs": [],
   "source": [
    "# df['defo_y1'] = df.apply(lambda x: x.deforestation_ if x.y1 == 1 else 0, axis = 1)\n",
    "# df['defo_y3'] = df.apply(lambda x: x.deforestation_ if x.y3 == 1 else 0, axis = 1)\n",
    "# df['defo_y5'] = df.apply(lambda x: x.deforestation_ if x.y5 == 1 else 0, axis = 1)\n",
    "# df['defo_y7'] = df.apply(lambda x: x.deforestation_ if x.y7 == 1 else 0, axis = 1)\n",
    "\n",
    "def defo_var(n): \n",
    "    var = 'y' + str(n)\n",
    "    return lambda x: x.deforestation_ if x[var] == 1 else 0\n",
    "\n",
    "for i in list(range(1, 10, 2)): \n",
    "    var = 'defo_y' + str(i)\n",
    "    df[var] = df.apply(defo_var(i), axis = 1)"
   ]
  },
  {
   "cell_type": "code",
   "execution_count": null,
   "metadata": {},
   "outputs": [],
   "source": [
    "df.head(30)"
   ]
  },
  {
   "cell_type": "code",
   "execution_count": null,
   "metadata": {},
   "outputs": [],
   "source": [
    "sum_cols = [x for x in df.columns if x not in i_cols and x != 'year'] + ['uid_gem']\n",
    "sum_cols\n",
    "\n",
    "df_group = df[sum_cols].groupby('uid_gem').sum().rename(columns = {'deforestation_': 'defo_total'}).reset_index()\n",
    "df_group.uid_gem.nunique()\n",
    "\n",
    "df_invariant = df[i_cols].groupby('uid_gem').agg('first').reset_index()\n",
    "df_invariant.uid_gem.nunique()\n",
    "\n",
    "df = pd.merge(df_invariant, df_group, how = 'inner', on = 'uid_gem')\n",
    "\n",
    "df.uid_gem.nunique()\n",
    "\n"
   ]
  },
  {
   "cell_type": "code",
   "execution_count": null,
   "metadata": {},
   "outputs": [],
   "source": [
    "# df['defo_y1'] = df.apply(lambda x: np.nan if x.y1 < 1 else x.defo_y1, axis = 1)\n",
    "# df['defo_y3'] = df.apply(lambda x: np.nan if x.y3 < 3 else x.defo_y3, axis = 1)\n",
    "# df['defo_y5'] = df.apply(lambda x: np.nan if x.y5 < 5 else x.defo_y5, axis = 1)\n",
    "# df['defo_y7'] = df.apply(lambda x: np.nan if x.y7 < 7 else x.defo_y7, axis = 1)\n",
    "\n",
    "def defo_fix(n): \n",
    "    var_yr = 'y' + str(n)\n",
    "    var_defo = 'defo_' + var_yr\n",
    "    return lambda x: np.nan if x[var_yr] < n else x[var_defo]\n",
    "\n",
    "for i in list(range(1, 10, 2)): \n",
    "    var = 'defo_y' + str(i)\n",
    "    df[var] = df.apply(defo_fix(i), axis = 1)"
   ]
  },
  {
   "cell_type": "code",
   "execution_count": null,
   "metadata": {},
   "outputs": [],
   "source": [
    "df.head(30)\n",
    "df.uid_gem.nunique()"
   ]
  },
  {
   "cell_type": "code",
   "execution_count": null,
   "metadata": {},
   "outputs": [],
   "source": [
    "df.to_csv('data/regression_sample.csv', index=False, sep='\\t', encoding='utf-8')"
   ]
  }
 ],
 "metadata": {
  "kernelspec": {
   "display_name": ".venv",
   "language": "python",
   "name": "python3"
  },
  "language_info": {
   "codemirror_mode": {
    "name": "ipython",
    "version": 3
   },
   "file_extension": ".py",
   "mimetype": "text/x-python",
   "name": "python",
   "nbconvert_exporter": "python",
   "pygments_lexer": "ipython3",
   "version": "3.11.3"
  }
 },
 "nbformat": 4,
 "nbformat_minor": 2
}
